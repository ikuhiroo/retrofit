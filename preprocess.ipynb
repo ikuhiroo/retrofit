{
 "cells": [
  {
   "cell_type": "code",
   "execution_count": 9,
   "metadata": {
    "collapsed": false
   },
   "outputs": [
    {
     "data": {
      "text/plain": [
       "'utf-8'"
      ]
     },
     "execution_count": 9,
     "metadata": {},
     "output_type": "execute_result"
    }
   ],
   "source": [
    "import sys\n",
    "sys.getdefaultencoding()"
   ]
  },
  {
   "cell_type": "code",
   "execution_count": 10,
   "metadata": {
    "collapsed": true
   },
   "outputs": [],
   "source": [
    "# -*- coding: utf-8 -*-\n",
    "# python3\n",
    "#\n",
    "# add words from POMS using wordlist_JP.\n",
    "#\n",
    "# ref:\n",
    "#   WordList_JP: http://compling.hss.ntu.edu.sg/wnja/\n",
    "#   python3: http://sucrose.hatenablog.com/entry/20120305/p1\n",
    "# \n",
    "# <-文字列を全てunicodeとして扱う。3系では必要なし\n",
    "# from __future__ import unicode_literals\n",
    "import sqlite3\n",
    "import sys\n",
    "from collections import namedtuple\n",
    "from pprint import pprint\n",
    "import codecs"
   ]
  },
  {
   "cell_type": "code",
   "execution_count": 11,
   "metadata": {
    "collapsed": true
   },
   "outputs": [],
   "source": [
    "# DBにconnectする\n",
    "conn = sqlite3.connect(\"./wnjpn.db\")"
   ]
  },
  {
   "cell_type": "code",
   "execution_count": 12,
   "metadata": {
    "collapsed": true
   },
   "outputs": [],
   "source": [
    "# 単語をwordテーブルから探す\n",
    "# ex. getWords(word=楽しい) \n",
    "# -> [Word(wordid=161281, lang='jpn', lemma='楽しい', pron=None, pos='a')]\n",
    "Word = namedtuple('Word', 'wordid lang lemma pron pos') \n",
    "def getWords(lemma):\n",
    "    cur = conn.execute(\"select * from word where lemma=?\", (lemma,))\n",
    "    return [Word(*row) for row in cur]\n",
    "\n",
    "# senseテーブルからwordが属するsynsetを抽出する\n",
    "Sense = namedtuple('Sense', 'synset wordid lang rank lexid freq src')\n",
    "def getSenses(word):\n",
    "    cur = conn.execute(\"select * from sense where wordid=?\", (word.wordid,))\n",
    "    return [Sense(*row) for row in cur]\n",
    "\n",
    "Synset = namedtuple('Synset', 'synset pos name src')\n",
    "def getSynset(synset):\n",
    "    cur = conn.execute(\"select * from synset where synset=?\", (synset,))\n",
    "    return Synset(*cur.fetchone())\n",
    "\n",
    "def getWordsFromSynset(synset, lang):\n",
    "    cur = conn.execute(\"select word.* from sense, word where synset=? and word.lang=? and sense.wordid = word.wordid;\", (synset,lang))\n",
    "    return [Word(*row) for row in cur]"
   ]
  },
  {
   "cell_type": "code",
   "execution_count": 13,
   "metadata": {
    "collapsed": true
   },
   "outputs": [],
   "source": [
    "# synonymの取得\n",
    "def getWordsFromSenses(sense, lang=\"jpn\"):\n",
    "    synonym = {}\n",
    "    for s in sense:\n",
    "        lemmas = [] # synonymの単語\n",
    "        syns = getWordsFromSynset(s.synset, lang)\n",
    "        for sy in syns:\n",
    "            lemmas.append(sy.lemma)\n",
    "            synonym[getSynset(s.synset).name] = lemmas\n",
    "    return synonym\n",
    "\n",
    "# 同義語を取得する\n",
    "def getSynonym(word):\n",
    "    synonym = {}\n",
    "    words = getWords(word)\n",
    "    if words:\n",
    "        for w in words:\n",
    "            sense = getSenses(w)\n",
    "            s = getWordsFromSenses(sense)\n",
    "            synonym = dict(list(synonym.items()) + list(s.items()))\n",
    "    return synonym\n",
    "\n",
    "# 追加部分\n",
    "# lang=jpnの収録単語を取得する\n",
    "def getAllwords():\n",
    "    Word = namedtuple('Word', 'wordid lang lemma pron pos') \n",
    "    cur = conn.execute(\"select word.* from word where word.lang=?\", ('jpn',))\n",
    "    Words = []\n",
    "    for w in [Word(*row) for row in cur]:\n",
    "        Words.append(w.lemma)\n",
    "    return Words"
   ]
  },
  {
   "cell_type": "code",
   "execution_count": 14,
   "metadata": {
    "collapsed": true
   },
   "outputs": [],
   "source": [
    "\"\"\"Write word vectors to file\"\"\"\n",
    "def print_word_vecs(wordVectors, outFileName):\n",
    "    sys.stderr.write('\\nWriting down the vectors in '+outFileName+'\\n')\n",
    "    outFile = open(outFileName, 'w')  \n",
    "    for word, values in wordVectors.items():\n",
    "        # keyを書き込む\n",
    "        outFile.write(word+' ')\n",
    "        for val in wordVectors[word]:\n",
    "            # valueを書き込む\n",
    "            outFile.write(str(val)+' ')\n",
    "        outFile.write('\\n')      \n",
    "    outFile.close()"
   ]
  },
  {
   "cell_type": "code",
   "execution_count": 15,
   "metadata": {
    "collapsed": false
   },
   "outputs": [],
   "source": [
    "# 単語リストの取得\n",
    "word_list = getAllwords()\n",
    "# 同義語の取得と保存\n",
    "result = {}\n",
    "for one_word in word_list:\n",
    "    value = []\n",
    "    synonym = getSynonym(one_word)\n",
    "    for eng in list(synonym.keys()):\n",
    "        value.extend(synonym[eng])\n",
    "    # 重複する単語を削除する（順序を保持する）\n",
    "    value_unq = []\n",
    "    for x in value:\n",
    "        if x not in value_unq:\n",
    "            value_unq.append(x)\n",
    "    result[one_word] = value_unq"
   ]
  },
  {
   "cell_type": "code",
   "execution_count": 17,
   "metadata": {
    "collapsed": false
   },
   "outputs": [
    {
     "name": "stderr",
     "output_type": "stream",
     "text": [
      "\n",
      "Writing down the vectors in ./result.txt\n"
     ]
    },
    {
     "ename": "TypeError",
     "evalue": "must be real number, not str",
     "output_type": "error",
     "traceback": [
      "\u001b[0;31m---------------------------------------------------------------------------\u001b[0m",
      "\u001b[0;31mTypeError\u001b[0m                                 Traceback (most recent call last)",
      "\u001b[0;32m<ipython-input-17-398adeefb8ca>\u001b[0m in \u001b[0;36m<module>\u001b[0;34m()\u001b[0m\n\u001b[0;32m----> 1\u001b[0;31m \u001b[0mprint_word_vecs\u001b[0m\u001b[0;34m(\u001b[0m\u001b[0mresult\u001b[0m\u001b[0;34m,\u001b[0m \u001b[0;34m'./result.txt'\u001b[0m\u001b[0;34m)\u001b[0m\u001b[0;34m\u001b[0m\u001b[0m\n\u001b[0m",
      "\u001b[0;32m<ipython-input-14-a14aee7b30d3>\u001b[0m in \u001b[0;36mprint_word_vecs\u001b[0;34m(wordVectors, outFileName)\u001b[0m\n\u001b[1;32m      6\u001b[0m         \u001b[0moutFile\u001b[0m\u001b[0;34m.\u001b[0m\u001b[0mwrite\u001b[0m\u001b[0;34m(\u001b[0m\u001b[0mword\u001b[0m\u001b[0;34m+\u001b[0m\u001b[0;34m' '\u001b[0m\u001b[0;34m)\u001b[0m\u001b[0;34m\u001b[0m\u001b[0m\n\u001b[1;32m      7\u001b[0m         \u001b[0;32mfor\u001b[0m \u001b[0mval\u001b[0m \u001b[0;32min\u001b[0m \u001b[0mwordVectors\u001b[0m\u001b[0;34m[\u001b[0m\u001b[0mword\u001b[0m\u001b[0;34m]\u001b[0m\u001b[0;34m:\u001b[0m\u001b[0;34m\u001b[0m\u001b[0m\n\u001b[0;32m----> 8\u001b[0;31m             \u001b[0moutFile\u001b[0m\u001b[0;34m.\u001b[0m\u001b[0mwrite\u001b[0m\u001b[0;34m(\u001b[0m\u001b[0;34m'%.4f'\u001b[0m \u001b[0;34m%\u001b[0m\u001b[0;34m(\u001b[0m\u001b[0mval\u001b[0m\u001b[0;34m)\u001b[0m\u001b[0;34m+\u001b[0m\u001b[0;34m' '\u001b[0m\u001b[0;34m)\u001b[0m\u001b[0;34m\u001b[0m\u001b[0m\n\u001b[0m\u001b[1;32m      9\u001b[0m         \u001b[0moutFile\u001b[0m\u001b[0;34m.\u001b[0m\u001b[0mwrite\u001b[0m\u001b[0;34m(\u001b[0m\u001b[0;34m'\\n'\u001b[0m\u001b[0;34m)\u001b[0m\u001b[0;34m\u001b[0m\u001b[0m\n\u001b[1;32m     10\u001b[0m     \u001b[0moutFile\u001b[0m\u001b[0;34m.\u001b[0m\u001b[0mclose\u001b[0m\u001b[0;34m(\u001b[0m\u001b[0;34m)\u001b[0m\u001b[0;34m\u001b[0m\u001b[0m\n",
      "\u001b[0;31mTypeError\u001b[0m: must be real number, not str"
     ]
    }
   ],
   "source": [
    "print_word_vecs(result, './result.txt')"
   ]
  },
  {
   "cell_type": "code",
   "execution_count": null,
   "metadata": {
    "collapsed": true
   },
   "outputs": [],
   "source": []
  }
 ],
 "metadata": {
  "kernelspec": {
   "display_name": "Python 3",
   "language": "python",
   "name": "python3"
  },
  "language_info": {
   "codemirror_mode": {
    "name": "ipython",
    "version": 3
   },
   "file_extension": ".py",
   "mimetype": "text/x-python",
   "name": "python",
   "nbconvert_exporter": "python",
   "pygments_lexer": "ipython3",
   "version": "3.6.0"
  }
 },
 "nbformat": 4,
 "nbformat_minor": 2
}
