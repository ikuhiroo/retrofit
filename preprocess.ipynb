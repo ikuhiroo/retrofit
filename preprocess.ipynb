{
 "cells": [
  {
   "cell_type": "markdown",
   "metadata": {},
   "source": [
    "# Wordnetの辞書を作成する"
   ]
  },
  {
   "cell_type": "code",
   "execution_count": 2,
   "metadata": {
    "collapsed": true
   },
   "outputs": [],
   "source": [
    "import sqlite3\n",
    "import sys\n",
    "from collections import namedtuple\n",
    "from pprint import pprint\n",
    "import codecs"
   ]
  },
  {
   "cell_type": "markdown",
   "metadata": {},
   "source": [
    "## ・パス指定"
   ]
  },
  {
   "cell_type": "code",
   "execution_count": null,
   "metadata": {
    "collapsed": true
   },
   "outputs": [],
   "source": [
    "wnjpn = \"./wnjpn.db\"\n",
    "output_arg = './result.txt'"
   ]
  },
  {
   "cell_type": "markdown",
   "metadata": {},
   "source": [
    "## ・Wordnetの辞書作成"
   ]
  },
  {
   "cell_type": "code",
   "execution_count": 3,
   "metadata": {
    "collapsed": true
   },
   "outputs": [],
   "source": [
    "# DBにconnectする\n",
    "conn = sqlite3.connect(wnjpn)"
   ]
  },
  {
   "cell_type": "code",
   "execution_count": 4,
   "metadata": {
    "collapsed": true
   },
   "outputs": [],
   "source": [
    "# 単語をwordテーブルから探す\n",
    "# ex. getWords(word=楽しい) \n",
    "# -> [Word(wordid=161281, lang='jpn', lemma='楽しい', pron=None, pos='a')]\n",
    "Word = namedtuple('Word', 'wordid lang lemma pron pos') \n",
    "def getWords(lemma):\n",
    "    cur = conn.execute(\"select * from word where lemma=?\", (lemma,))\n",
    "    return [Word(*row) for row in cur]\n",
    "\n",
    "# senseテーブルからwordが属するsynsetを抽出する\n",
    "Sense = namedtuple('Sense', 'synset wordid lang rank lexid freq src')\n",
    "def getSenses(word):\n",
    "    cur = conn.execute(\"select * from sense where wordid=?\", (word.wordid,))\n",
    "    return [Sense(*row) for row in cur]\n",
    "\n",
    "Synset = namedtuple('Synset', 'synset pos name src')\n",
    "def getSynset(synset):\n",
    "    cur = conn.execute(\"select * from synset where synset=?\", (synset,))\n",
    "    return Synset(*cur.fetchone())\n",
    "\n",
    "def getWordsFromSynset(synset, lang):\n",
    "    cur = conn.execute(\"select word.* from sense, word where synset=? and word.lang=? and sense.wordid = word.wordid;\", (synset,lang))\n",
    "    return [Word(*row) for row in cur]"
   ]
  },
  {
   "cell_type": "code",
   "execution_count": 5,
   "metadata": {
    "collapsed": true
   },
   "outputs": [],
   "source": [
    "# synonymの取得\n",
    "def getWordsFromSenses(sense, lang=\"jpn\"):\n",
    "    synonym = {}\n",
    "    for s in sense:\n",
    "        lemmas = [] # synonymの単語\n",
    "        syns = getWordsFromSynset(s.synset, lang)\n",
    "        for sy in syns:\n",
    "            lemmas.append(sy.lemma)\n",
    "            synonym[getSynset(s.synset).name] = lemmas\n",
    "    return synonym\n",
    "\n",
    "# 同義語を取得する\n",
    "def getSynonym(word):\n",
    "    synonym = {}\n",
    "    words = getWords(word)\n",
    "    if words:\n",
    "        for w in words:\n",
    "            sense = getSenses(w)\n",
    "            s = getWordsFromSenses(sense)\n",
    "            synonym = dict(list(synonym.items()) + list(s.items()))\n",
    "    return synonym\n",
    "\n",
    "# 追加部分\n",
    "# lang=jpnの収録単語を取得する\n",
    "def getAllwords():\n",
    "    Word = namedtuple('Word', 'wordid lang lemma pron pos') \n",
    "    cur = conn.execute(\"select word.* from word where word.lang=?\", ('jpn',))\n",
    "    Words = []\n",
    "    for w in [Word(*row) for row in cur]:\n",
    "        Words.append(w.lemma)\n",
    "    return Words"
   ]
  },
  {
   "cell_type": "code",
   "execution_count": 6,
   "metadata": {
    "collapsed": true
   },
   "outputs": [],
   "source": [
    "\"\"\"Write word vectors to file\"\"\"\n",
    "def print_word_vecs(wordVectors, outFileName):\n",
    "    sys.stderr.write('\\nWriting down the vectors in '+outFileName+'\\n')\n",
    "    outFile = open(outFileName, 'w')  \n",
    "    for word, values in wordVectors.items():\n",
    "        # keyを書き込む\n",
    "        if len(wordVectors[word]) == 1 and word in values:\n",
    "            pass\n",
    "        else:\n",
    "            outFile.write(word+' ')\n",
    "            for val in wordVectors[word]:\n",
    "                if val != word:\n",
    "                    # valueを書き込む\n",
    "                    outFile.write(str(val)+' ')\n",
    "                else:\n",
    "                    pass\n",
    "            outFile.write('\\n')      \n",
    "    outFile.close()"
   ]
  },
  {
   "cell_type": "code",
   "execution_count": 7,
   "metadata": {
    "collapsed": false
   },
   "outputs": [],
   "source": [
    "# 単語リストの取得\n",
    "word_list = getAllwords()\n",
    "# 同義語の取得と保存\n",
    "result = {}\n",
    "for one_word in word_list:\n",
    "    value = []\n",
    "    synonym = getSynonym(one_word)\n",
    "    for eng in list(synonym.keys()):\n",
    "        value.extend(synonym[eng])\n",
    "    # 重複する単語を削除する（順序を保持する）\n",
    "    value_unq = []\n",
    "    for x in value:\n",
    "        if x not in value_unq:\n",
    "            value_unq.append(x)\n",
    "    result[one_word] = value_unq\n",
    "print_word_vecs(result, output_arg)"
   ]
  }
 ],
 "metadata": {
  "kernelspec": {
   "display_name": "Python 3",
   "language": "python",
   "name": "python3"
  },
  "language_info": {
   "codemirror_mode": {
    "name": "ipython",
    "version": 3
   },
   "file_extension": ".py",
   "mimetype": "text/x-python",
   "name": "python",
   "nbconvert_exporter": "python",
   "pygments_lexer": "ipython3",
   "version": "3.6.0"
  }
 },
 "nbformat": 4,
 "nbformat_minor": 2
}
