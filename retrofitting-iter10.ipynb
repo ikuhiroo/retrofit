{
 "cells": [
  {
   "cell_type": "code",
   "execution_count": 1,
   "metadata": {
    "collapsed": false
   },
   "outputs": [
    {
     "data": {
      "text/plain": [
       "'utf-8'"
      ]
     },
     "execution_count": 1,
     "metadata": {},
     "output_type": "execute_result"
    }
   ],
   "source": [
    "import sys\n",
    "sys.getdefaultencoding()"
   ]
  },
  {
   "cell_type": "code",
   "execution_count": 2,
   "metadata": {
    "collapsed": true
   },
   "outputs": [],
   "source": [
    "# -*- coding: utf-8 -*-\n",
    "# python3\n",
    "#\n",
    "import argparse\n",
    "import gzip\n",
    "import math\n",
    "import numpy\n",
    "import re\n",
    "import sys\n",
    "import numpy as np\n",
    "from copy import deepcopy\n",
    "import codecs"
   ]
  },
  {
   "cell_type": "code",
   "execution_count": 3,
   "metadata": {
    "collapsed": true
   },
   "outputs": [],
   "source": [
    "isNumber = re.compile(r'\\d+.*')\n",
    "def norm_word(word):\n",
    "    if isNumber.search(word.lower()):\n",
    "        return '---num---'\n",
    "    elif re.sub(r'\\W+', '', word) == '':\n",
    "        return '---punc---'\n",
    "    else:\n",
    "        return word.lower()"
   ]
  },
  {
   "cell_type": "code",
   "execution_count": 4,
   "metadata": {
    "collapsed": true
   },
   "outputs": [],
   "source": [
    "\"\"\"Read all the word vectors and normalize them\"\"\"\n",
    "def read_word_vecs(filename):\n",
    "    wordVectors = {}\n",
    "    # ファイル読み込み\n",
    "    if filename.endswith('.gz'): \n",
    "        fileObject = gzip.open(filename, 'r')\n",
    "    else: \n",
    "        fileObject = codecs.open(filename, \"r\", \"utf-8\", 'ignore')\n",
    "        \n",
    "    for line in fileObject:\n",
    "        # line = line.strip().lower()\n",
    "        line = line.strip()\n",
    "        word = line.split()[0]\n",
    "        wordVectors[word] = numpy.zeros(len(line.split())-1, dtype=float)\n",
    "        for index, vecVal in enumerate(line.split()[1:]):\n",
    "            wordVectors[word][index] = float(vecVal)\n",
    "        \"\"\"normalize weight vector\"\"\"\n",
    "        wordVectors[word] /= math.sqrt((wordVectors[word]**2).sum() + 1e-6)\n",
    "\n",
    "    sys.stderr.write(\"Vectors read from: \"+filename+\" \\n\")\n",
    "    return wordVectors"
   ]
  },
  {
   "cell_type": "code",
   "execution_count": 5,
   "metadata": {
    "collapsed": true
   },
   "outputs": [],
   "source": [
    "\"\"\"Write word vectors to file\"\"\"\n",
    "def print_word_vecs(wordVectors, outFileName):\n",
    "    sys.stderr.write('\\nWriting down the vectors in '+outFileName+'\\n')\n",
    "    outFile = open(outFileName, 'w')  \n",
    "    for word, values in wordVectors.items():\n",
    "        outFile.write(word+' ')\n",
    "        for val in wordVectors[word]:\n",
    "            outFile.write('%.4f' %(val)+' ')\n",
    "        outFile.write('\\n')      \n",
    "    outFile.close()"
   ]
  },
  {
   "cell_type": "code",
   "execution_count": 6,
   "metadata": {
    "collapsed": true
   },
   "outputs": [],
   "source": [
    "\"\"\"Read the PPDB.etc word relations as a dictionary\"\"\"\n",
    "def read_lexicon(filename):\n",
    "    lexicon = {}\n",
    "    fileObject = open(filename, 'r')\n",
    "    for line in fileObject:\n",
    "        words = line.lower().strip().split()\n",
    "        lexicon[norm_word(words[0])] = [norm_word(word) for word in words[1:]]\n",
    "    return lexicon"
   ]
  },
  {
   "cell_type": "code",
   "execution_count": 7,
   "metadata": {
    "collapsed": true
   },
   "outputs": [],
   "source": [
    "\"\"\"Retrofit word vectors to a lexicon\"\"\"\n",
    "def retrofit(wordVecs, lexicon, numIters):\n",
    "    # Input word vecs\n",
    "    newWordVecs = deepcopy(wordVecs)\n",
    "    # Input word vecsの単語リスト\n",
    "    wvVocab = set(newWordVecs.keys())\n",
    "    # wvVocabとlexiconの共通単語\n",
    "    loopVocab = wvVocab.intersection(set(lexicon.keys()))\n",
    "\n",
    "    for _ in range(numIters): #10回程度\n",
    "        # loop through every node also in ontology (else just use data estimate)\n",
    "        for word in loopVocab:\n",
    "            # lexicon wordの近傍単語とwvVocabの共通単語とその個数\n",
    "            wordNeighbours = set(lexicon[word]).intersection(wvVocab)\n",
    "            numNeighbours = len(wordNeighbours)\n",
    "            # no neighbours -> pass - use data estimate\n",
    "            if numNeighbours == 0:\n",
    "                continue\n",
    "            \"\"\"分散表現の更新手続き\"\"\"\n",
    "            # the weight of the data estimate if the number of neighbours\n",
    "            newVec = numNeighbours * wordVecs[word]\n",
    "            # loop over neighbours and add to new vector (currently with weight 1)\n",
    "            for ppWord in wordNeighbours:\n",
    "                newVec += newWordVecs[ppWord]\n",
    "            newWordVecs[word] = newVec/(2*numNeighbours)\n",
    "    return newWordVecs"
   ]
  },
  {
   "cell_type": "code",
   "execution_count": 8,
   "metadata": {
    "collapsed": true
   },
   "outputs": [],
   "source": [
    "def similarity(v1, v2):\n",
    "    n1 = np.linalg.norm(v1) # v1のノルム\n",
    "    n2 = np.linalg.norm(v2) # v2のノルム\n",
    "    return np.dot(v1, v2) / (n1*n2) # 内積 / "
   ]
  },
  {
   "cell_type": "markdown",
   "metadata": {},
   "source": [
    "### 変数設定"
   ]
  },
  {
   "cell_type": "code",
   "execution_count": 9,
   "metadata": {
    "collapsed": true
   },
   "outputs": [],
   "source": [
    "# Input word vecs -> original\n",
    "input_arg = './word2vec/vectors.model'\n",
    "# Lexicon file name\n",
    "lexicon_arg = './lexicons/wordnet-jpn.txt'\n",
    "# Lexicon file name（keyとvalueに共通の単語を含まない）\n",
    "lexicon_arg = './result.txt'\n",
    "# Num iterations\n",
    "numiter_arg = 10\n",
    "# Output word vecs -> retrofitting\n",
    "output_arg = './out_vec.txt'"
   ]
  },
  {
   "cell_type": "code",
   "execution_count": 10,
   "metadata": {
    "collapsed": true
   },
   "outputs": [],
   "source": [
    "numIter = int(numiter_arg)"
   ]
  },
  {
   "cell_type": "code",
   "execution_count": 11,
   "metadata": {
    "collapsed": true
   },
   "outputs": [],
   "source": [
    "outFileName = output_arg"
   ]
  },
  {
   "cell_type": "code",
   "execution_count": 12,
   "metadata": {
    "collapsed": true,
    "scrolled": true
   },
   "outputs": [],
   "source": [
    "lexicon = read_lexicon(lexicon_arg)"
   ]
  },
  {
   "cell_type": "code",
   "execution_count": 13,
   "metadata": {
    "collapsed": false
   },
   "outputs": [
    {
     "name": "stderr",
     "output_type": "stream",
     "text": [
      "Vectors read from: ./word2vec/vectors.model \n"
     ]
    }
   ],
   "source": [
    "wordVecs = read_word_vecs(input_arg)"
   ]
  },
  {
   "cell_type": "code",
   "execution_count": 14,
   "metadata": {
    "collapsed": true
   },
   "outputs": [],
   "source": [
    "new_vec = retrofit(wordVecs, lexicon, numIter)"
   ]
  },
  {
   "cell_type": "markdown",
   "metadata": {},
   "source": [
    "### retrofittingした分散表現を保存する"
   ]
  },
  {
   "cell_type": "code",
   "execution_count": 15,
   "metadata": {
    "collapsed": false,
    "scrolled": true
   },
   "outputs": [
    {
     "name": "stderr",
     "output_type": "stream",
     "text": [
      "\n",
      "Writing down the vectors in ./out_vec.txt\n"
     ]
    }
   ],
   "source": [
    "\"\"\"Enrich the word vectors using ppdb and print the enriched vectors\"\"\"\n",
    "print_word_vecs(new_vec, outFileName)"
   ]
  },
  {
   "cell_type": "markdown",
   "metadata": {},
   "source": [
    "### 評価"
   ]
  },
  {
   "cell_type": "code",
   "execution_count": 16,
   "metadata": {
    "collapsed": true
   },
   "outputs": [],
   "source": [
    "# word2vec\n",
    "vecs_wordVecs = wordVecs"
   ]
  },
  {
   "cell_type": "code",
   "execution_count": 17,
   "metadata": {
    "collapsed": true
   },
   "outputs": [],
   "source": [
    "# retrofitting\n",
    "vecs_new_vec = new_vec"
   ]
  },
  {
   "cell_type": "code",
   "execution_count": 18,
   "metadata": {
    "collapsed": false,
    "scrolled": true
   },
   "outputs": [
    {
     "name": "stdout",
     "output_type": "stream",
     "text": [
      "wordNeighbours : {'齢', '一年', '年紀', '年次', '老年', '年歯', '年中', '老いらく', '老い', '高齢', '年代', '年間', '老齢', '年頃', '年齢', '年令', '馬齢', '歳', '歳次', '年度'}\n",
      "numNeighbours : 20\n",
      "分母 : 40\n"
     ]
    }
   ],
   "source": [
    "word = '年'\n",
    "newWordVecs = deepcopy(wordVecs)\n",
    "wvVocab = set(wordVecs.keys())\n",
    "wordNeighbours = set(lexicon[word]).intersection(wvVocab)\n",
    "print('wordNeighbours : {}'.format(wordNeighbours))\n",
    "numNeighbours = len(wordNeighbours)\n",
    "print('numNeighbours : {}'.format(numNeighbours))\n",
    "newVec = numNeighbours * wordVecs[word]\n",
    "for ppWord in wordNeighbours:\n",
    "    newVec += newWordVecs[ppWord]\n",
    "print('分母 : {}'.format(2*numNeighbours))\n",
    "newWordVecs[word] = newVec/(2*numNeighbours)"
   ]
  },
  {
   "cell_type": "markdown",
   "metadata": {},
   "source": [
    "## ●wordsim算出"
   ]
  },
  {
   "cell_type": "code",
   "execution_count": 102,
   "metadata": {
    "collapsed": false,
    "scrolled": true
   },
   "outputs": [],
   "source": [
    "def checkSim(v1, v2):\n",
    "    if v1 not in lexicon: # 注目単語がwordnetに含まれない場合，\n",
    "        print(\"v1(={})はwordnetのkeyに存在しません\".format(v1))\n",
    "        wordNeighbours_1 = set()\n",
    "    else:\n",
    "        # 注目単語の同義語リストとword2vecのkeyリストと重複する単語リスト（更新対象か？）\n",
    "        wordNeighbours_1 = set(lexicon[v1]).intersection(set(wordVecs.keys()))\n",
    "        print('v1(={})における更新対象のneighbour数 : {}'.format(v1, len(wordNeighbours_1)))\n",
    "        \n",
    "    # neighboursの中で注目単語と類似度が低いもの\n",
    "    ave_1_word2vec = np.zeros_like(wordVecs[v1])  #neighboursの平均ベクトル\n",
    "    ave_1_retrofit = np.zeros_like(wordVecs[v1])\n",
    "    for neighbour in wordNeighbours_1:\n",
    "        print('v1とneighbour(={}) : {} -> {}'.format(neighbour, \n",
    "                                                                   similarity(wordVecs[neighbour], wordVecs[v1]), \n",
    "                                                                   similarity(vecs_new_vec[neighbour], vecs_new_vec[v1])))\n",
    "        ave_1_word2vec += wordVecs[neighbour]\n",
    "        ave_1_retrofit += vecs_new_vec[neighbour]\n",
    "    print('v1とneighboursの平均ベクトル : {} -> {}'.format(similarity(ave_1_word2vec/len(wordNeighbours_1), wordVecs[v1]), \n",
    "                                                              similarity(ave_1_retrofit/len(wordNeighbours_1), vecs_new_vec[v1])))\n",
    "    print(\" \")\n",
    "    \n",
    "    if v2 not in lexicon:\n",
    "        print(\"v2(={})はwordnetのkeyに存在しません\".format(v2))\n",
    "        wordNeighbours_2 = set()\n",
    "    else:\n",
    "        wordNeighbours_2 = set(lexicon[v2]).intersection(set(wordVecs.keys()))\n",
    "        print('v2(={})における更新対象のneighbour数 : {}'.format(v2, len(wordNeighbours_2))) # 更新対象数\n",
    "    \n",
    "    # neighboursの中で注目単語と類似度が低いもの\n",
    "    ave_2_word2vec = np.zeros_like(wordVecs[v2])  #neighboursの平均ベクトル\n",
    "    ave_2_retrofit = np.zeros_like(wordVecs[v2])\n",
    "    for neighbour in wordNeighbours_2:\n",
    "        print('v2とneighbour(={}) : {} -> {}'.format(neighbour, \n",
    "                                                                   similarity(wordVecs[neighbour], wordVecs[v2]), \n",
    "                                                                   similarity(vecs_new_vec[neighbour], vecs_new_vec[v2])))\n",
    "        ave_2_word2vec += wordVecs[neighbour]\n",
    "        ave_2_retrofit += vecs_new_vec[neighbour]\n",
    "    print('v2とneighboursの平均ベクトル : {} -> {}'.format(similarity(ave_2_word2vec/len(wordNeighbours_2), wordVecs[v2]), \n",
    "                                                              similarity(ave_2_retrofit/len(wordNeighbours_2), vecs_new_vec[v2])))\n",
    "    print(\" \")\n",
    "    \n",
    "    # v1とv2における更新対象のneighbourに重複があるか\n",
    "    print('更新対象における重複数 : {}'.format(len(set(wordNeighbours_1).intersection(set(wordNeighbours_2)))))\n",
    "    print(\" \")\n",
    "\n",
    "    \"\"\"v1とv2のword2vecとretrofittingにおける類似度\"\"\"\n",
    "    try:\n",
    "        print(\"word2vec : {}\".format(similarity(vecs_wordVecs[v1], vecs_wordVecs[v2])))\n",
    "    except:\n",
    "        print('error')\n",
    "\n",
    "    try:\n",
    "        print(\"retrofitting : {}\".format(similarity(vecs_new_vec[v1], vecs_new_vec[v2])))\n",
    "    except:\n",
    "        print('error')\n",
    "\n",
    "    print(\" \")\n",
    "    \"\"\"同一単語におけるword2vecとretrofittingの類似度\"\"\"\n",
    "    try:\n",
    "        print(\"v1 : {}\".format(similarity(vecs_wordVecs[v1], vecs_new_vec[v1])))\n",
    "    except:\n",
    "        print('error')\n",
    "\n",
    "    try:\n",
    "        print(\"v2 : {}\".format(similarity(vecs_wordVecs[v2], vecs_new_vec[v2])))\n",
    "    except:\n",
    "        print('error')"
   ]
  },
  {
   "cell_type": "markdown",
   "metadata": {},
   "source": [
    "### マイナス"
   ]
  },
  {
   "cell_type": "code",
   "execution_count": 111,
   "metadata": {
    "collapsed": false,
    "scrolled": true
   },
   "outputs": [
    {
     "name": "stdout",
     "output_type": "stream",
     "text": [
      "v1(=ドル)はwordnetのkeyに存在しません\n",
      "v1とneighboursの平均ベクトル : nan -> nan\n",
      " \n",
      "v2(=円)における更新対象のneighbour数 : 8\n",
      "v2とneighbour(=巡回) : 0.1131635014205176 -> 0.4291887263221031\n"
     ]
    },
    {
     "name": "stderr",
     "output_type": "stream",
     "text": [
      "/Users/1-10robotics/.pyenv/versions/3.6.0/lib/python3.6/site-packages/ipykernel/__main__.py:19: RuntimeWarning: invalid value encountered in true_divide\n",
      "/Users/1-10robotics/.pyenv/versions/3.6.0/lib/python3.6/site-packages/ipykernel/__main__.py:20: RuntimeWarning: invalid value encountered in true_divide\n"
     ]
    },
    {
     "name": "stdout",
     "output_type": "stream",
     "text": [
      "v2とneighbour(=丸形) : 0.21967795296196008 -> 0.6015340394512537\n",
      "v2とneighbour(=サークル) : 0.17831748010221335 -> 0.4648514078651976\n",
      "v2とneighbour(=循環) : 0.15366664240606967 -> 0.4915772471454811\n",
      "v2とneighbour(=丸) : 0.27237524443096445 -> 0.5800608916545316\n",
      "v2とneighbour(=円型) : 0.22594052119243904 -> 0.6060745381380435\n",
      "v2とneighbour(=輪) : 0.2726846607881181 -> 0.5878950110144121\n",
      "v2とneighbour(=円形) : 0.34518353641197497 -> 0.6758589356721078\n",
      "v2とneighboursの平均ベクトル : 0.39251172887826713 -> 0.7335681831744241\n",
      " \n",
      "更新対象における重複数 : 0\n",
      " \n",
      "word2vec : 0.5411942571094619\n",
      "retrofitting : 0.5183508062187686\n",
      " \n",
      "v1 : 1.0\n",
      "v2 : 0.9399721324548693\n"
     ]
    }
   ],
   "source": [
    "# 共通項がないやつで最終値が一番高い\n",
    "v1 = 'ドル'\n",
    "v2 = '円'\n",
    "checkSim(v1, v2)"
   ]
  },
  {
   "cell_type": "markdown",
   "metadata": {},
   "source": [
    "### 共通"
   ]
  },
  {
   "cell_type": "code",
   "execution_count": 107,
   "metadata": {
    "collapsed": false,
    "scrolled": true
   },
   "outputs": [
    {
     "name": "stdout",
     "output_type": "stream",
     "text": [
      "v1(=フットボール)における更新対象のneighbour数 : 4\n",
      "v1とneighbour(=アソシエーションフットボール) : 0.44592722294673065 -> 0.8335826927035681\n",
      "v1とneighbour(=フートボール) : 0.41945202281722355 -> 0.8278195137015855\n",
      "v1とneighbour(=蹴球) : 0.4714661654042284 -> 0.8447621939082396\n",
      "v1とneighbour(=サッカー) : 0.6700097012259578 -> 0.9024019593223032\n",
      "v1とneighboursの平均ベクトル : 0.6533150118662724 -> 0.9100273993864155\n",
      " \n",
      "v2(=サッカー)における更新対象のneighbour数 : 4\n",
      "v2とneighbour(=アソシエーションフットボール) : 0.3838424344300787 -> 0.8132863977242077\n",
      "v2とneighbour(=蹴球) : 0.49144473934055627 -> 0.8494863730782928\n",
      "v2とneighbour(=フートボール) : 0.3560841190233665 -> 0.8074712182772082\n",
      "v2とneighbour(=フットボール) : 0.6700097012259578 -> 0.9024019593223032\n",
      "v2とneighboursの平均ベクトル : 0.6121738109726408 -> 0.8983739758369889\n",
      " \n",
      "更新対象における重複数 : 3\n",
      " \n",
      "word2vec : 0.6700097012259578\n",
      "retrofitting : 0.9024019593223032\n",
      " \n",
      "v1 : 0.9490886483333562\n",
      "v2 : 0.9421231737699743\n"
     ]
    }
   ],
   "source": [
    "# 共通項があるやつで最終値が一番高い\n",
    "v1 = 'フットボール'\n",
    "v2 = 'サッカー'\n",
    "checkSim(v1, v2)"
   ]
  },
  {
   "cell_type": "markdown",
   "metadata": {},
   "source": [
    "### 低い"
   ]
  },
  {
   "cell_type": "code",
   "execution_count": 105,
   "metadata": {
    "collapsed": false,
    "scrolled": true
   },
   "outputs": [
    {
     "name": "stdout",
     "output_type": "stream",
     "text": [
      "v1(=生)における更新対象のneighbour数 : 26\n",
      "v1とneighbour(=ライフ) : 0.17652417447173702 -> 0.43791106925070644\n",
      "v1とneighbour(=毛並) : 0.24577676333904072 -> 0.572265884228388\n",
      "v1とneighbour(=血統) : 0.14742782305704158 -> 0.526484784694368\n",
      "v1とneighbour(=出自) : 0.16291115673841247 -> 0.5404569876542337\n",
      "v1とneighbour(=身元) : 0.17757387864207355 -> 0.5072710415210289\n",
      "v1とneighbour(=門閥) : 0.15888040040420326 -> 0.49112465754259804\n",
      "v1とneighbour(=血脈) : 0.06475758927170373 -> 0.4700031284223761\n",
      "v1とneighbour(=系統) : 0.20493965847265672 -> 0.5114783957811527\n",
      "v1とneighbour(=毛並み) : 0.07192749128803916 -> 0.45536094889912493\n",
      "v1とneighbour(=家系) : 0.10273288731876168 -> 0.5004052368505814\n",
      "v1とneighbour(=命) : 0.2019877674547781 -> 0.4559616578569955\n",
      "v1とneighbour(=種姓) : 0.2628761047023309 -> 0.5665000055647801\n",
      "v1とneighbour(=閥) : 0.1931630728994868 -> 0.4937570369455544\n",
      "v1とneighbour(=門) : 0.17700279978925296 -> 0.4484143125201698\n",
      "v1とneighbour(=氏素性) : 0.11371815329503893 -> 0.5076226578073788\n",
      "v1とneighbour(=生まれ) : 0.17343376652421144 -> 0.4878517314706883\n",
      "v1とneighbour(=家筋) : 0.040901366494649205 -> 0.42644097290439004\n",
      "v1とneighbour(=生れ) : 0.2260546547287853 -> 0.5351414277471014\n",
      "v1とneighbour(=家柄) : 0.11532008061431316 -> 0.5118775166656482\n",
      "v1とneighbour(=生命) : 0.21375792773099137 -> 0.43680070550825123\n",
      "v1とneighbour(=世系) : 0.12094786345953944 -> 0.49460495013634853\n",
      "v1とneighbour(=系譜) : 0.17425563178094458 -> 0.5325029201800933\n",
      "v1とneighbour(=血筋) : 0.09711712918369529 -> 0.5063598090410175\n",
      "v1とneighbour(=素姓) : 0.1606807406533333 -> 0.5003953305444044\n",
      "v1とneighbour(=門地) : 0.1124600534873489 -> 0.48476413794951156\n",
      "v1とneighbour(=素性) : 0.18869629679854555 -> 0.5203595755468058\n",
      "v1とneighboursの平均ベクトル : 0.2913138968044283 -> 0.6629082141988764\n",
      " \n",
      "v2(=死)における更新対象のneighbour数 : 45\n",
      "v2とneighbour(=没) : 0.42271232709237394 -> 0.7030019641315329\n",
      "v2とneighbour(=長逝) : 0.33214257768285393 -> 0.6585786208478569\n",
      "v2とneighbour(=一巻の終わり) : 0.3685524050773825 -> 0.6852755910180693\n",
      "v2とneighbour(=往生) : 0.25585252434358513 -> 0.6072928892239107\n",
      "v2とneighbour(=絶息) : 0.3851446619953172 -> 0.6887717421066941\n",
      "v2とneighbour(=御事) : 0.21689523747702558 -> 0.5947264301356221\n",
      "v2とneighbour(=死没) : 0.4634906612767251 -> 0.724814964267471\n",
      "v2とneighbour(=登仙) : 0.2467624886602954 -> 0.6019529869807095\n",
      "v2とneighbour(=閉眼) : 0.211843370103803 -> 0.5810016667721926\n",
      "v2とneighbour(=隠れ) : 0.14211860050236394 -> 0.5378734135921092\n",
      "v2とneighbour(=入滅) : 0.3477167431470735 -> 0.6573373716751791\n",
      "v2とneighbour(=負け) : 0.18324644992587516 -> 0.4585569357361857\n",
      "v2とneighbour(=不幸) : 0.4463635131116449 -> 0.6662695395316063\n",
      "v2とneighbour(=他界) : 0.5458740677631775 -> 0.7684593660939275\n",
      "v2とneighbour(=死出の旅) : 0.30653441130781606 -> 0.6432626642252653\n",
      "v2とneighbour(=遺失) : 0.19540038106934035 -> 0.48268209011758456\n",
      "v2とneighbour(=落命) : 0.5099568145612312 -> 0.7501666811663052\n",
      "v2とneighbour(=歿) : 0.4056845647904589 -> 0.6980603780567683\n",
      "v2とneighbour(=減退) : 0.2358085009565179 -> 0.42650782825473477\n",
      "v2とneighbour(=デス) : 0.26373099532435457 -> 0.6029204973900669\n",
      "v2とneighbour(=召天) : 0.34402249982087335 -> 0.661539608494172\n",
      "v2とneighbour(=死去) : 0.5460307883943601 -> 0.7679736245426145\n",
      "v2とneighbour(=卒) : 0.2115934982624983 -> 0.5336565495094685\n",
      "v2とneighbour(=薨去) : 0.46213024620395693 -> 0.7201788452303045\n",
      "v2とneighbour(=死亡) : 0.5459600318789354 -> 0.7695576792027427\n",
      "v2とneighbour(=永眠) : 0.3958424063557964 -> 0.690500258315995\n",
      "v2とneighbour(=昇天) : 0.3111235217707413 -> 0.6381256422059723\n",
      "v2とneighbour(=最後) : 0.2858083589049995 -> 0.5543019281706879\n",
      "v2とneighbour(=不帰) : 0.3325821852381308 -> 0.6576821658917071\n",
      "v2とneighbour(=寂滅) : 0.2909782939376382 -> 0.6264670813526293\n",
      "v2とneighbour(=一死) : 0.36544943385871104 -> 0.6619361180205151\n",
      "v2とneighbour(=物故) : 0.2460990701786787 -> 0.5926009729764408\n",
      "v2とneighbour(=ロス) : 0.20059006491920195 -> 0.43908213089378356\n",
      "v2とneighbour(=遷化) : 0.27542305871317097 -> 0.6252752708319937\n",
      "v2とneighbour(=終焉) : 0.3718545721903377 -> 0.6254461523768031\n",
      "v2とneighbour(=逝去) : 0.4849769416071253 -> 0.7365392629158004\n",
      "v2とneighbour(=絶命) : 0.5022814327975287 -> 0.7451384187090293\n",
      "v2とneighbour(=不祝儀) : 0.2198394562723469 -> 0.5763191196329838\n",
      "v2とneighbour(=眠り) : 0.3263412935513792 -> 0.6357738545008641\n",
      "v2とneighbour(=卒去) : 0.36599187876429096 -> 0.6693748001860182\n",
      "v2とneighbour(=辞世) : 0.3229363394069784 -> 0.6498122377016327\n",
      "v2とneighbour(=解放) : 0.23836825973520873 -> 0.4945034054112854\n",
      "v2とneighbour(=死歿) : 0.3938470409905096 -> 0.6952294919692922\n",
      "v2とneighbour(=亡失) : 0.1756208250779285 -> 0.48858777982830565\n",
      "v2とneighbour(=喪失) : 0.3253698076711111 -> 0.5403870199480098\n",
      "v2とneighboursの平均ベクトル : 0.6407709972407929 -> 0.8387944891131838\n",
      " \n",
      "更新対象における重複数 : 0\n",
      " \n",
      "word2vec : 0.2559904598692138\n",
      "retrofitting : 0.4718467889880916\n",
      " \n",
      "v1 : 0.9253815268560247\n",
      "v2 : 0.9603187705776859\n"
     ]
    }
   ],
   "source": [
    "v1 = '生'\n",
    "v2 = '死'\n",
    "checkSim(v1, v2)"
   ]
  },
  {
   "cell_type": "code",
   "execution_count": 118,
   "metadata": {
    "collapsed": false,
    "scrolled": true
   },
   "outputs": [
    {
     "name": "stdout",
     "output_type": "stream",
     "text": [
      "v1(=美術館)における更新対象のneighbour数 : 4\n",
      "v1とneighbour(=ギャラリー) : 0.7021229078972576 -> 0.915751866800859\n",
      "v1とneighbour(=画廊) : 0.6152072871038751 -> 0.8807404110283732\n",
      "v1とneighbour(=ミュージアム) : 0.6293827471798114 -> 0.8964914766435316\n",
      "v1とneighbour(=博物館) : 0.7262213696149932 -> 0.9141538954372825\n",
      "v1とneighboursの平均ベクトル : 0.8186927006032015 -> 0.9666284454731989\n",
      " \n",
      "v2(=劇場)における更新対象のneighbour数 : 5\n",
      "v2とneighbour(=能楽堂) : 0.3547952875318167 -> 0.7718612705973279\n",
      "v2とneighbour(=芝居小屋) : 0.48358660663894676 -> 0.8210933834428926\n",
      "v2とneighbour(=戯場) : 0.21712467833665977 -> 0.7150136651358888\n",
      "v2とneighbour(=シアター) : 0.6401493559053145 -> 0.8757172267540604\n",
      "v2とneighbour(=テアトル) : 0.5394930833350355 -> 0.822213310854582\n",
      "v2とneighboursの平均ベクトル : 0.6630547249790616 -> 0.9011015248957814\n",
      " \n",
      "更新対象における重複数 : 0\n",
      " \n",
      "word2vec : 0.42690805296907663\n",
      "retrofitting : 0.5202503207311584\n",
      " \n",
      "v1 : 0.977424165460638\n",
      "v2 : 0.9574142056264471\n"
     ]
    }
   ],
   "source": [
    "v1 = '美術館'\n",
    "v2 = '劇場'\n",
    "checkSim(v1, v2)"
   ]
  },
  {
   "cell_type": "code",
   "execution_count": 112,
   "metadata": {
    "collapsed": false,
    "scrolled": true
   },
   "outputs": [
    {
     "name": "stdout",
     "output_type": "stream",
     "text": [
      "v1(=王)における更新対象のneighbour数 : 14\n",
      "v1とneighbour(=王者) : 0.3101894359652949 -> 0.562964970904805\n",
      "v1とneighbour(=王さま) : 0.2860579492700634 -> 0.6512339301522426\n",
      "v1とneighbour(=クイーン) : 0.24872054073498523 -> 0.5972356601724406\n",
      "v1とneighbour(=クィーン) : 0.21705241353816102 -> 0.5813464441629039\n",
      "v1とneighbour(=王様) : 0.4239317157852163 -> 0.7312840466383078\n",
      "v1とneighbour(=豪商) : 0.2599904642630862 -> 0.5687664870691005\n",
      "v1とneighbour(=大立者) : 0.1979678673564072 -> 0.5440496504516424\n",
      "v1とneighbour(=レックス) : 0.12846845975009447 -> 0.6034419344930807\n",
      "v1とneighbour(=キング) : 0.27940652363442164 -> 0.6843970094996994\n",
      "v1とneighbour(=君王) : 0.3819989838711822 -> 0.6770689717690949\n",
      "v1とneighbour(=財界人) : 0.13009340003740402 -> 0.43928054528802907\n",
      "v1とneighbour(=巨頭) : 0.19682008052235375 -> 0.5026156264495584\n",
      "v1とneighbour(=第一人者) : 0.17573438535269445 -> 0.5852458595220515\n",
      "v1とneighbour(=国王) : 0.6917026014021463 -> 0.8529199498319596\n",
      "v1とneighboursの平均ベクトル : 0.5390497618857002 -> 0.8343685647230328\n",
      " \n",
      "v2(=城)における更新対象のneighbour数 : 25\n",
      "v2とneighbour(=要塞) : 0.5748539002968758 -> 0.8066571686248833\n",
      "v2とneighbour(=キャッスル) : 0.19611143542343715 -> 0.6186139797519594\n",
      "v2とneighbour(=防塞) : 0.4267304458296016 -> 0.7406853818623926\n",
      "v2とneighbour(=塁壁) : 0.4983443946988819 -> 0.7746931568088529\n",
      "v2とneighbour(=本塁) : 0.19597351059034346 -> 0.599765071082599\n",
      "v2とneighbour(=胸壁) : 0.34317841562091106 -> 0.7067464520750696\n",
      "v2とneighbour(=城郭建築) : 0.3427167631708145 -> 0.6897256154459301\n",
      "v2とneighbour(=とりで) : 0.334136586496595 -> 0.6989876577696184\n",
      "v2とneighbour(=城塞) : 0.6834712305504234 -> 0.8513626707035097\n",
      "v2とneighbour(=館城) : 0.5155103615622766 -> 0.7789789353474355\n",
      "v2とneighbour(=城廓) : 0.45078876571473125 -> 0.7543432905322406\n",
      "v2とneighbour(=城砦) : 0.6704731002784983 -> 0.8471527907410925\n",
      "v2とneighbour(=館) : 0.38034334515605933 -> 0.6007545761871174\n",
      "v2とneighbour(=城郭) : 0.5820909116459653 -> 0.8197970499145738\n",
      "v2とneighbour(=要害) : 0.5559934381297651 -> 0.8065683082798357\n",
      "v2とneighbour(=防塁) : 0.46206448231560765 -> 0.7593598711173885\n",
      "v2とneighbour(=砦) : 0.6006032038108198 -> 0.8178185515833868\n",
      "v2とneighbour(=シャトー) : 0.3758945600052876 -> 0.6491764734794936\n",
      "v2とneighbour(=山塞) : 0.4155180363157836 -> 0.7408329396526385\n",
      "v2とneighbour(=堡塁) : 0.43983901791728236 -> 0.747233071001986\n",
      "v2とneighbour(=塁) : 0.31792305284175254 -> 0.6970040379737718\n",
      "v2とneighbour(=山砦) : 0.5123283810514451 -> 0.7846777619843301\n",
      "v2とneighbour(=出丸) : 0.4226519779987049 -> 0.7490452801182741\n",
      "v2とneighbour(=居城) : 0.7664098682312104 -> 0.8823320283924968\n",
      "v2とneighbour(=堅塁) : 0.3401929918796607 -> 0.6962247093423208\n",
      "v2とneighboursの平均ベクトル : 0.7553769999145696 -> 0.9059995599178111\n",
      " \n",
      "更新対象における重複数 : 0\n",
      " \n",
      "word2vec : 0.3257038525733273\n",
      "retrofitting : 0.4290850642342785\n",
      " \n",
      "v1 : 0.9592914353653774\n",
      "v2 : 0.9664428260934489\n"
     ]
    }
   ],
   "source": [
    "# 共通項がないやつで最終値が一番高い\n",
    "v1 = '王'\n",
    "v2 = '城'\n",
    "checkSim(v1, v2)"
   ]
  },
  {
   "cell_type": "markdown",
   "metadata": {},
   "source": [
    "### 高い"
   ]
  },
  {
   "cell_type": "code",
   "execution_count": 109,
   "metadata": {
    "collapsed": false,
    "scrolled": true
   },
   "outputs": [
    {
     "name": "stdout",
     "output_type": "stream",
     "text": [
      "v1(=テレビ)における更新対象のneighbour数 : 4\n",
      "v1とneighbour(=テレビ受像機) : 0.5441313221781042 -> 0.8613849019964129\n",
      "v1とneighbour(=テレビ放送) : 0.6787932434324452 -> 0.9056473604391946\n",
      "v1とneighbour(=テレビジョン) : 0.5616445110157754 -> 0.8723406943883184\n",
      "v1とneighbour(=テレヴィジョン) : 0.37064471779783603 -> 0.8088971992240203\n",
      "v1とneighboursの平均ベクトル : 0.723982904839291 -> 0.9298441484397826\n",
      " \n",
      "v2(=ラジオ)における更新対象のneighbour数 : 2\n",
      "v2とneighbour(=チューナー) : 0.42850172988676133 -> 0.8709666273032112\n",
      "v2とneighbour(=チューナ) : 0.3938496885949077 -> 0.8624978933689752\n",
      "v2とneighboursの平均ベクトル : 0.45522564671014276 -> 0.884955517314295\n",
      " \n",
      "更新対象における重複数 : 0\n",
      " \n",
      "word2vec : 0.7361300573266628\n",
      "retrofitting : 0.7592624761244849\n",
      " \n",
      "v1 : 0.9616185424261647\n",
      "v2 : 0.9217192863974057\n"
     ]
    }
   ],
   "source": [
    "# 共通項がないやつで最終値が一番高い\n",
    "v1 = 'テレビ'\n",
    "v2 = 'ラジオ'\n",
    "checkSim(v1, v2)"
   ]
  },
  {
   "cell_type": "code",
   "execution_count": 113,
   "metadata": {
    "collapsed": false,
    "scrolled": true
   },
   "outputs": [
    {
     "name": "stdout",
     "output_type": "stream",
     "text": [
      "v1(=飲む)における更新対象のneighbour数 : 10\n",
      "v1とneighbour(=押しまくる) : 0.29192872169906087 -> 0.6494121335549915\n",
      "v1とneighbour(=圧す) : 0.21701712636899895 -> 0.5871563986556991\n",
      "v1とneighbour(=飲酒) : 0.5462529604926939 -> 0.8198364349988605\n",
      "v1とneighbour(=飲みこむ) : 0.34430900120028607 -> 0.6647725687899138\n",
      "v1とneighbour(=呑む) : 0.6053115809833923 -> 0.8095862008190163\n",
      "v1とneighbour(=呑みこむ) : 0.3170492369722226 -> 0.6353214396254244\n",
      "v1とneighbour(=押す) : 0.2621257996819309 -> 0.5859205498007677\n",
      "v1とneighbour(=圧倒) : 0.22653396847640545 -> 0.6242290161236901\n",
      "v1とneighbour(=呑み込む) : 0.3827670006466599 -> 0.6760116046036065\n",
      "v1とneighbour(=圧する) : 0.15395362894024356 -> 0.5172680632146465\n",
      "v1とneighboursの平均ベクトル : 0.5383063562437775 -> 0.82455317801076\n",
      " \n",
      "v2(=食べる)における更新対象のneighbour数 : 12\n",
      "v2とneighbour(=食む) : 0.38105936119163064 -> 0.7170363742151195\n",
      "v2とneighbour(=召し上がる) : 0.49685808939480847 -> 0.7677150899669016\n",
      "v2とneighbour(=喰う) : 0.4828591555898598 -> 0.7221916464278607\n",
      "v2とneighbour(=食する) : 0.816408708129915 -> 0.9178264493804462\n",
      "v2とneighbour(=喫する) : 0.17320355965721132 -> 0.5373619465035728\n",
      "v2とneighbour(=生活) : 0.3399709905531519 -> 0.5699797493271774\n",
      "v2とneighbour(=食事) : 0.6041184484610419 -> 0.7622082696222255\n",
      "v2とneighbour(=召す) : 0.20128422269130772 -> 0.5181024567655653\n",
      "v2とneighbour(=頂く) : 0.32439462371406447 -> 0.5994512545530557\n",
      "v2とneighbour(=生きる) : 0.4671946129736189 -> 0.6452600750667289\n",
      "v2とneighbour(=食らう) : 0.380429819587664 -> 0.6576693041194158\n",
      "v2とneighbour(=食う) : 0.6062038488331293 -> 0.8016108864155072\n",
      "v2とneighboursの平均ベクトル : 0.7383400474923192 -> 0.880933541145738\n",
      " \n",
      "更新対象における重複数 : 0\n",
      " \n",
      "word2vec : 0.5942451351022903\n",
      "retrofitting : 0.7123460031076208\n",
      " \n",
      "v1 : 0.9501105755659855\n",
      "v2 : 0.9668048863765406\n"
     ]
    }
   ],
   "source": [
    "# 共通項がないやつで最終値が一番高い\n",
    "v1 = '飲む'\n",
    "v2 = '食べる'\n",
    "checkSim(v1, v2)"
   ]
  },
  {
   "cell_type": "code",
   "execution_count": 119,
   "metadata": {
    "collapsed": false,
    "scrolled": true
   },
   "outputs": [
    {
     "name": "stdout",
     "output_type": "stream",
     "text": [
      "v1(=医師)における更新対象のneighbour数 : 11\n",
      "v1とneighbour(=薬師) : 0.19296580520475656 -> 0.6480136951021512\n",
      "v1とneighbour(=ドクター) : 0.4804415296902404 -> 0.7746588857647472\n",
      "v1とneighbour(=医員) : 0.484714624518716 -> 0.7857234703444463\n",
      "v1とneighbour(=開業医) : 0.6909833714035468 -> 0.8743027476679038\n",
      "v1とneighbour(=医家) : 0.43677196823172926 -> 0.764525263642084\n",
      "v1とneighbour(=国手) : 0.20735460565847408 -> 0.5062540810772626\n",
      "v1とneighbour(=杏林) : 0.19466620372975943 -> 0.6494180845807439\n",
      "v1とneighbour(=医) : 0.7552187090764066 -> 0.8939365285647622\n",
      "v1とneighbour(=ドクトル) : 0.3581458967787516 -> 0.726976044274809\n",
      "v1とneighbour(=医者) : 0.7569605809715519 -> 0.9026890514771313\n",
      "v1とneighbour(=内科医) : 0.7212434425390394 -> 0.8871307653911633\n",
      "v1とneighboursの平均ベクトル : 0.7936331349555631 -> 0.9231214358404376\n",
      " \n",
      "v2(=看護師)における更新対象のneighbour数 : 4\n",
      "v2とneighbour(=看護婦) : 0.7768066373887185 -> 0.9401185437306926\n",
      "v2とneighbour(=看護士) : 0.6944085594045406 -> 0.916656789019836\n",
      "v2とneighbour(=ナース) : 0.5219851825453762 -> 0.8674098573168365\n",
      "v2とneighbour(=白衣の天使) : 0.5059497864097063 -> 0.863637931495086\n",
      "v2とneighboursの平均ベクトル : 0.7945599172828193 -> 0.9499696868061034\n",
      " \n",
      "更新対象における重複数 : 0\n",
      " \n",
      "word2vec : 0.7184039509462475\n",
      "retrofitting : 0.7373023182806892\n",
      " \n",
      "v1 : 0.9735230055825829\n",
      "v2 : 0.9690686338255492\n"
     ]
    }
   ],
   "source": [
    "# 共通項がないやつで最終値が一番高い\n",
    "v1 = '医師'\n",
    "v2 = '看護師'\n",
    "checkSim(v1, v2)"
   ]
  },
  {
   "cell_type": "markdown",
   "metadata": {},
   "source": [
    "### トラと虎とタイガーがwordvecのkeyとwordnetのvalueにどの程度含まれているか\n",
    "\n",
    "### ●類似度から特徴を捉える\n",
    "#### ・（やや）上がりやすい単語の組み合わせの特徴\n",
    "#### ・（やや）下がりやすい単語の組み合わせの特報\n",
    "#### ・類似度が下がっていない組み合わせはないか？（現在，見つかっていない）\n",
    "\n",
    "### ●wordnetに含まれているかどうか\n",
    "#### ・wordnetに含まれているもの同士（？）\n",
    "#### ・wordnetに片方だけ含まれているもの同士（？）\n",
    "#### ・wordnetに両方含まれているもの同士（ベクトルは変化しない）\n",
    "\n",
    "### ●ベクトル内の比較\n",
    "#### ・word2vecとretrofittingでどう変わったか（次元）\n",
    "#### ・変化のパターンを見つけたり，，，\n",
    "\n",
    "### ●イテレーション回数\n",
    "#### ・イテレーション回数が少ない，周辺単語同士を考慮したベクトル表現になっているはず\n",
    "#### ・イテレーション回数が多いと，遠い単語同士を考慮したベクトル表現になっているはず"
   ]
  },
  {
   "cell_type": "code",
   "execution_count": 26,
   "metadata": {
    "collapsed": true
   },
   "outputs": [],
   "source": [
    "# deepcopy\n",
    "ex_1_dict = deepcopy(vecs_wordVecs)"
   ]
  },
  {
   "cell_type": "code",
   "execution_count": 27,
   "metadata": {
    "collapsed": false
   },
   "outputs": [],
   "source": [
    "# 更新手続き\n",
    "for i in range(10):\n",
    "    ex_1 = 2*vecs_wordVecs['トラ'] + ex_1_dict['虎'] + ex_1_dict['タイガー']\n",
    "    ex_1_dict['トラ'] = ex_1/4\n",
    "    \n",
    "    ex_1 = 2*vecs_wordVecs['虎'] + ex_1_dict['トラ'] + ex_1_dict['タイガー']\n",
    "    ex_1_dict['虎'] = ex_1/4\n",
    "    \n",
    "    ex_1 = 2*vecs_wordVecs['タイガー'] + ex_1_dict['トラ'] + ex_1_dict['虎']\n",
    "    ex_1_dict['タイガー'] = ex_1/4"
   ]
  },
  {
   "cell_type": "code",
   "execution_count": 28,
   "metadata": {
    "collapsed": true
   },
   "outputs": [],
   "source": [
    "for i in range(10):\n",
    "    ex_1 = 3*vecs_wordVecs['ネコ'] + ex_1_dict['ねんねこ'] + ex_1_dict['猫'] + ex_1_dict['にゃんにゃん']\n",
    "    ex_1_dict['ネコ'] = ex_1/6\n",
    "    \n",
    "    ex_1 = 9*vecs_wordVecs['ねんねこ'] + ex_1_dict['ネコ'] + ex_1_dict['御寝'] + ex_1_dict['睡眠'] + ex_1_dict['にゃんにゃん'] + ex_1_dict['眠り'] + ex_1_dict['ねね'] + ex_1_dict['就眠'] + ex_1_dict['スリープ'] + ex_1_dict['猫']\n",
    "    ex_1_dict['ねんねこ'] = ex_1/18\n",
    "    \n",
    "    ex_1 = 3*vecs_wordVecs['猫'] + ex_1_dict['ネコ'] + ex_1_dict['ねんねこ'] + ex_1_dict['にゃんにゃん']\n",
    "    ex_1_dict['猫'] = ex_1/6\n",
    "    \n",
    "    ex_1 = 3*vecs_wordVecs['にゃんにゃん'] + ex_1_dict['ネコ'] + ex_1_dict['ねんねこ'] + ex_1_dict['猫']\n",
    "    ex_1_dict['にゃんにゃん'] = ex_1/6"
   ]
  },
  {
   "cell_type": "code",
   "execution_count": 29,
   "metadata": {
    "collapsed": false
   },
   "outputs": [
    {
     "data": {
      "text/plain": [
       "0.46740306874140686"
      ]
     },
     "execution_count": 29,
     "metadata": {},
     "output_type": "execute_result"
    }
   ],
   "source": [
    "# word2vec\n",
    "similarity(vecs_wordVecs['トラ'], vecs_wordVecs['ネコ'])"
   ]
  },
  {
   "cell_type": "code",
   "execution_count": 30,
   "metadata": {
    "collapsed": false
   },
   "outputs": [
    {
     "data": {
      "text/plain": [
       "0.5452202960439427"
      ]
     },
     "execution_count": 30,
     "metadata": {},
     "output_type": "execute_result"
    }
   ],
   "source": [
    "# retrofitting\n",
    "similarity(ex_1_dict['トラ'], ex_1_dict['ネコ'])"
   ]
  },
  {
   "cell_type": "markdown",
   "metadata": {},
   "source": [
    "## ●アナロジー算出\n",
    "### v1+v2-v3, v4の類似度"
   ]
  },
  {
   "cell_type": "code",
   "execution_count": 31,
   "metadata": {
    "collapsed": true
   },
   "outputs": [],
   "source": [
    "def checkAnalogy(vecs, w_vec):  \n",
    "    negative = False # Falseなら似た単語を候補で上げる\n",
    "    threshold = 0.3 # -1なら閾値固定\n",
    "\n",
    "    # 閾値の設定\n",
    "    border_positive = threshold if threshold > 0 else 0.9\n",
    "    border_negative = threshold if threshold > 0 else 0.2\n",
    "    print('{} < thd < {}'.format(border_negative, border_positive))\n",
    "\n",
    "    # 候補数の設定\n",
    "    max_candidates = 20\n",
    "    candidates = {}\n",
    "\n",
    "    for w in vecs:\n",
    "        try:\n",
    "            if w_vec.shape != vecs[w].shape:\n",
    "                raise Exception(\"size not match\")\n",
    "            s = similarity(w_vec, vecs[w])\n",
    "        except Exception as ex:\n",
    "            print(w + \" is not valid word.\")\n",
    "            continue\n",
    "\n",
    "        if negative and s <= border_negative:\n",
    "            candidates[w] = s\n",
    "            if len(candidates) % 5 == 0:\n",
    "                border_negative -= 0.05\n",
    "        elif not negative and s >= border_positive:\n",
    "            candidates[w] = s\n",
    "            if len(candidates) % 5 == 0:\n",
    "                border_positive += 0.05\n",
    "\n",
    "        if len(candidates) > max_candidates:\n",
    "            break\n",
    "\n",
    "    # 類義語算出\n",
    "    sorted_candidates = sorted(candidates, key=candidates.get, reverse=not negative)\n",
    "    for c in sorted_candidates:\n",
    "        print(\"{0}, {1}\".format(c, candidates[c]))"
   ]
  },
  {
   "cell_type": "code",
   "execution_count": 32,
   "metadata": {
    "collapsed": false,
    "scrolled": false
   },
   "outputs": [
    {
     "name": "stdout",
     "output_type": "stream",
     "text": [
      "word2vec : 0.3855693677632116\n",
      "retrofitting : 0.4551626248488288\n"
     ]
    }
   ],
   "source": [
    "v1 = '兄'\n",
    "v2 = '姉'\n",
    "v3 = '祖父'\n",
    "v4 = '祖母'\n",
    "\n",
    "if v1 not in lexicon:\n",
    "    print(\"v1 not found error in dict\")\n",
    "if v2 not in lexicon:\n",
    "    print(\"v2 not found error in dict\")\n",
    "if v3 not in lexicon:\n",
    "    print(\"v3 not found error in dict\")\n",
    "if v4 not in lexicon:\n",
    "    print(\"v4 not found error in dict\")\n",
    "\n",
    "try:\n",
    "    print('word2vec : {}'.format(similarity(vecs_wordVecs[v1] + vecs_wordVecs[v2] - vecs_wordVecs[v3], vecs_wordVecs[v4])))\n",
    "except:\n",
    "    print('error')\n",
    "\n",
    "try:\n",
    "    print('retrofitting : {}'.format(similarity(vecs_new_vec[v1] + vecs_new_vec[v2] - vecs_new_vec[v3], vecs_new_vec[v4])))\n",
    "except:\n",
    "    print('error')"
   ]
  },
  {
   "cell_type": "markdown",
   "metadata": {},
   "source": [
    "### v1+v2-v3の上位10単語"
   ]
  },
  {
   "cell_type": "code",
   "execution_count": 33,
   "metadata": {
    "collapsed": false
   },
   "outputs": [
    {
     "name": "stdout",
     "output_type": "stream",
     "text": [
      "0.3 < thd < 0.3\n",
      "754069 is not valid word.\n",
      "姉, 0.8433279735101462\n",
      "兄, 0.7622779357580127\n",
      "妹, 0.7553375375315672\n",
      "弟, 0.7011033258786433\n",
      "双子, 0.5541898022518956\n",
      "夫, 0.5241162973051148\n",
      "年上, 0.5228285283574702\n",
      "次女, 0.49053484292919564\n",
      "兄弟, 0.4801388417438813\n",
      "叔父, 0.48004084731816965\n",
      "甥, 0.4646477248521072\n",
      "母, 0.4618720699656536\n",
      "長女, 0.4522498603989746\n",
      "娘。, 0.4484254297338895\n",
      "彼女, 0.41874909255787995\n",
      "妻, 0.4180556386599047\n",
      "息子, 0.38730153006548584\n",
      "父, 0.3860297212008132\n",
      "結婚, 0.3574390676533354\n",
      "男, 0.35215392646403093\n",
      "2人, 0.32434570907744076\n"
     ]
    }
   ],
   "source": [
    "checkAnalogy(vecs_wordVecs, vecs_wordVecs[v1] + vecs_wordVecs[v2] - vecs_wordVecs[v3])"
   ]
  },
  {
   "cell_type": "code",
   "execution_count": 34,
   "metadata": {
    "collapsed": false
   },
   "outputs": [
    {
     "name": "stdout",
     "output_type": "stream",
     "text": [
      "0.3 < thd < 0.3\n",
      "754069 is not valid word.\n",
      "弟, 0.7363773428035553\n",
      "彼女, 0.5633848612459265\n",
      "母, 0.5338945985417203\n",
      "息子, 0.5296489064677692\n",
      "妻, 0.5185961666462241\n",
      "娘。, 0.5039797679904815\n",
      "男, 0.48125900743836425\n",
      "女性, 0.46642097473328686\n",
      "子供, 0.46185837631087945\n",
      "彼, 0.46079802351631\n",
      "父, 0.453286636253022\n",
      "結婚, 0.4467901599528763\n",
      "子, 0.41050218358373636\n",
      "2人, 0.4091102121032748\n",
      "自分, 0.3918471991585603\n",
      "思う, 0.3722482847040549\n",
      "出演, 0.3608708000529299\n",
      "メンバー, 0.35132074590314577\n",
      "後, 0.3332142011063982\n",
      "優勝, 0.3050190898147509\n",
      "活動, 0.30106505940926076\n"
     ]
    }
   ],
   "source": [
    "checkAnalogy(vecs_new_vec, vecs_new_vec[v1] + vecs_new_vec[v2] - vecs_new_vec[v3])"
   ]
  },
  {
   "cell_type": "code",
   "execution_count": 35,
   "metadata": {
    "collapsed": false
   },
   "outputs": [],
   "source": [
    "# # ベクトルの設定\n",
    "# w_vec = vecs_wordVecs[v1] + vecs_wordVecs[v2] - vecs_wordVecs[v3]\n",
    "# vecs = vecs_wordVecs\n",
    "# for w in vecs:\n",
    "#     try:\n",
    "#         if w_vec.shape != vecs[w].shape:\n",
    "#             raise Exception(\"size not match\")\n",
    "#         s = similarity(w_vec, vecs[w])\n",
    "#     except Exception as ex:\n",
    "#         print(w + \" is not valid word.\")\n",
    "#         continue\n",
    "\n",
    "#     if negative and s <= border_negative:\n",
    "#         candidates[w] = s\n",
    "#         if len(candidates) % 5 == 0:\n",
    "#             border_negative -= 0.05\n",
    "#     elif not negative and s >= border_positive:\n",
    "#         candidates[w] = s\n",
    "#         if len(candidates) % 5 == 0:\n",
    "#             border_positive += 0.05\n",
    "\n",
    "#     if len(candidates) > max_candidates:\n",
    "#         break\n",
    "\n",
    "# # 類義語算出\n",
    "# sorted_candidates = sorted(candidates, key=candidates.get, reverse=not negative)\n",
    "# for c in sorted_candidates:\n",
    "#     print(\"{0}, {1}\".format(c, candidates[c]))"
   ]
  },
  {
   "cell_type": "code",
   "execution_count": 36,
   "metadata": {
    "collapsed": false
   },
   "outputs": [],
   "source": [
    "# # ベクトルの設定\n",
    "# w_vec = vecs_new_vec[v1] + vecs_new_vec[v2] - vecs_new_vec[v3]\n",
    "# vecs = vecs_new_vec\n",
    "# for w in vecs:\n",
    "#     try:\n",
    "#         if w_vec.shape != vecs[w].shape:\n",
    "#             raise Exception(\"size not match\")\n",
    "#         s = similarity(w_vec, vecs[w])\n",
    "#     except Exception as ex:\n",
    "#         print(w + \" is not valid word.\")\n",
    "#         continue\n",
    "\n",
    "#     if negative and s <= border_negative:\n",
    "#         candidates[w] = s\n",
    "#         if len(candidates) % 5 == 0:\n",
    "#             border_negative -= 0.05\n",
    "#     elif not negative and s >= border_positive:\n",
    "#         candidates[w] = s\n",
    "#         if len(candidates) % 5 == 0:\n",
    "#             border_positive += 0.05\n",
    "\n",
    "#     if len(candidates) > max_candidates:\n",
    "#         break\n",
    "\n",
    "# # 類義語算出\n",
    "# sorted_candidates = sorted(candidates, key=candidates.get, reverse=not negative)\n",
    "# for c in sorted_candidates:\n",
    "#     print(\"{0}, {1}\".format(c, candidates[c]))"
   ]
  },
  {
   "cell_type": "markdown",
   "metadata": {},
   "source": [
    "## ●wordに対する上位10単語"
   ]
  },
  {
   "cell_type": "code",
   "execution_count": 37,
   "metadata": {
    "collapsed": true
   },
   "outputs": [],
   "source": [
    "word = '彼女'\n",
    "# path = \"./fastText/model.vec\"\n",
    "negative = False # Falseなら似た単語を候補で上げる\n",
    "threshold = 0.6 # -1なら閾値固定"
   ]
  },
  {
   "cell_type": "code",
   "execution_count": 38,
   "metadata": {
    "collapsed": true
   },
   "outputs": [],
   "source": [
    "def checkSim_by_word(vecs, word):\n",
    "    # 閾値の設定\n",
    "    border_positive = threshold if threshold > 0 else 0.8\n",
    "    border_negative = threshold if threshold > 0 else 0.3\n",
    "\n",
    "    # 候補数の設定\n",
    "    max_candidates = 20\n",
    "    candidates = {}\n",
    "    \n",
    "    # wordの設定確認\n",
    "    if not word:\n",
    "        raise Exception(\"word is missing\")\n",
    "\n",
    "    # wordがモデルにない場合，\n",
    "    if word not in vecs:\n",
    "        raise Exception(\"Sorry, this word is not registered in model.\")\n",
    "\n",
    "    # ベクトルの設定\n",
    "    w_vec = vecs[word]\n",
    "\n",
    "    # ナレッジグラフにあるかどうかの確認\n",
    "    lexicon = read_lexicon(lexicon_arg)\n",
    "    if word not in lexicon:\n",
    "    #     raise Exception(\"not found error in dict\")\n",
    "        print(\"not found error in dict\")\n",
    "    \n",
    "    for w in vecs:\n",
    "        try:\n",
    "            if w_vec.shape != vecs[w].shape:\n",
    "                raise Exception(\"size not match\")\n",
    "            s = similarity(w_vec, vecs[w])\n",
    "        except Exception as ex:\n",
    "            print(w + \" is not valid word.\")\n",
    "            continue\n",
    "\n",
    "        if negative and s <= border_negative:\n",
    "            candidates[w] = s\n",
    "            if len(candidates) % 5 == 0:\n",
    "                border_negative -= 0.05\n",
    "        elif not negative and s >= border_positive:\n",
    "            candidates[w] = s\n",
    "            if len(candidates) % 5 == 0:\n",
    "                border_positive += 0.05\n",
    "\n",
    "        if len(candidates) > max_candidates:\n",
    "            break\n",
    "    \n",
    "    # 類義語算出\n",
    "    sorted_candidates = sorted(candidates, key=candidates.get, reverse=not negative)\n",
    "    for c in sorted_candidates:\n",
    "        print(\"{0}, {1}\".format(c, candidates[c]))"
   ]
  },
  {
   "cell_type": "code",
   "execution_count": 39,
   "metadata": {
    "collapsed": false
   },
   "outputs": [
    {
     "name": "stdout",
     "output_type": "stream",
     "text": [
      "754069 is not valid word.\n",
      "彼女, 1.0\n",
      "彼, 0.7881711200018091\n",
      "彼女自身, 0.7454731084176603\n",
      "彼女たち, 0.7367573651943607\n",
      "彼女ら, 0.6977034431164688\n",
      "自分, 0.670073388263443\n",
      "ルービツ, 0.654221608969978\n",
      "フィリピエヴナ, 0.654103015163623\n",
      "彼ら, 0.640895342831867\n",
      "私, 0.6133480216235981\n"
     ]
    }
   ],
   "source": [
    "checkSim_by_word(vecs_wordVecs, word)"
   ]
  },
  {
   "cell_type": "code",
   "execution_count": 40,
   "metadata": {
    "collapsed": false
   },
   "outputs": [
    {
     "name": "stdout",
     "output_type": "stream",
     "text": [
      "754069 is not valid word.\n",
      "彼女, 1.0\n",
      "ガールフレンド, 0.8702002688497589\n",
      "彼, 0.8646146980898385\n",
      "恋人, 0.8645802396686143\n",
      "女友達, 0.8311694694676265\n",
      "ボーイフレンド, 0.8124717823463654\n",
      "彼氏, 0.7801450844152102\n",
      "愛人, 0.7650726007804837\n",
      "姉, 0.7288931991907749\n",
      "母親, 0.7185615661404968\n",
      "彼女たち, 0.7185170361874652\n",
      "少女, 0.7085028585700932\n",
      "夫, 0.7052696073185539\n",
      "友人, 0.6895894431116874\n",
      "妻, 0.6895129106064973\n",
      "女, 0.6675841870719544\n",
      "女性, 0.6668317027438901\n",
      "自分, 0.6601343182581626\n",
      "結婚, 0.6003956506916117\n"
     ]
    }
   ],
   "source": [
    "checkSim_by_word(vecs_new_vec, word)"
   ]
  },
  {
   "cell_type": "code",
   "execution_count": null,
   "metadata": {
    "collapsed": true
   },
   "outputs": [],
   "source": []
  },
  {
   "cell_type": "code",
   "execution_count": 41,
   "metadata": {
    "collapsed": false
   },
   "outputs": [],
   "source": [
    "# # wordの設定確認\n",
    "# if not word:\n",
    "#     raise Exception(\"word is missing\")\n",
    "    \n",
    "# # wordがモデルにない場合，\n",
    "# if word not in vecs:\n",
    "#     raise Exception(\"Sorry, this word is not registered in model.\")\n",
    "\n",
    "# # ベクトルの設定\n",
    "# w_vec = vecs[word]\n",
    "\n",
    "# # ナレッジグラフにあるかどうかの確認\n",
    "# lexicon = read_lexicon(lexicon_arg)\n",
    "# if word not in lexicon:\n",
    "# #     raise Exception(\"not found error in dict\")\n",
    "#     print(\"not found error in dict\")\n",
    "\n",
    "# # 閾値の設定\n",
    "# border_positive = threshold if threshold > 0 else 0.8\n",
    "# border_negative = threshold if threshold > 0 else 0.3\n",
    "\n",
    "# # 候補数の設定\n",
    "# max_candidates = 20\n",
    "# candidates = {}"
   ]
  },
  {
   "cell_type": "code",
   "execution_count": 42,
   "metadata": {
    "collapsed": false
   },
   "outputs": [],
   "source": [
    "# for w in vecs:\n",
    "#     try:\n",
    "#         if w_vec.shape != vecs[w].shape:\n",
    "#             raise Exception(\"size not match\")\n",
    "#         s = similarity(w_vec, vecs[w])\n",
    "#     except Exception as ex:\n",
    "#         print(w + \" is not valid word.\")\n",
    "#         continue\n",
    "\n",
    "#     if negative and s <= border_negative:\n",
    "#         candidates[w] = s\n",
    "#         if len(candidates) % 5 == 0:\n",
    "#             border_negative -= 0.05\n",
    "#     elif not negative and s >= border_positive:\n",
    "#         candidates[w] = s\n",
    "#         if len(candidates) % 5 == 0:\n",
    "#             border_positive += 0.05\n",
    "\n",
    "#     if len(candidates) > max_candidates:\n",
    "#         break"
   ]
  },
  {
   "cell_type": "code",
   "execution_count": 43,
   "metadata": {
    "collapsed": false
   },
   "outputs": [],
   "source": [
    "# # 類義語算出\n",
    "# sorted_candidates = sorted(candidates, key=candidates.get, reverse=not negative)\n",
    "# for c in sorted_candidates:\n",
    "#     print(\"{0}, {1}\".format(c, candidates[c]))"
   ]
  }
 ],
 "metadata": {
  "kernelspec": {
   "display_name": "Python 3",
   "language": "python",
   "name": "python3"
  },
  "language_info": {
   "codemirror_mode": {
    "name": "ipython",
    "version": 3
   },
   "file_extension": ".py",
   "mimetype": "text/x-python",
   "name": "python",
   "nbconvert_exporter": "python",
   "pygments_lexer": "ipython3",
   "version": "3.6.0"
  }
 },
 "nbformat": 4,
 "nbformat_minor": 2
}
