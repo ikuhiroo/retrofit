{
 "cells": [
  {
   "cell_type": "markdown",
   "metadata": {},
   "source": [
    "# wordSim評価\n",
    "# wordAnalogy評価"
   ]
  },
  {
   "cell_type": "markdown",
   "metadata": {},
   "source": [
    "# -----------初期設定-----------"
   ]
  },
  {
   "cell_type": "code",
   "execution_count": 1,
   "metadata": {
    "collapsed": true
   },
   "outputs": [],
   "source": [
    "# -*- coding: utf-8 -*-\n",
    "# python3\n",
    "#\n",
    "import argparse\n",
    "import gzip\n",
    "import math\n",
    "import numpy\n",
    "import re\n",
    "import sys\n",
    "import numpy as np\n",
    "from copy import deepcopy\n",
    "import codecs"
   ]
  },
  {
   "cell_type": "code",
   "execution_count": 2,
   "metadata": {
    "collapsed": true
   },
   "outputs": [],
   "source": [
    "isNumber = re.compile(r'\\d+.*')\n",
    "def norm_word(word):\n",
    "    if isNumber.search(word.lower()):\n",
    "        return '---num---'\n",
    "    elif re.sub(r'\\W+', '', word) == '':\n",
    "        return '---punc---'\n",
    "    else:\n",
    "        return word.lower()"
   ]
  },
  {
   "cell_type": "code",
   "execution_count": 3,
   "metadata": {
    "collapsed": true
   },
   "outputs": [],
   "source": [
    "\"\"\"Read all the word vectors and normalize them\"\"\"\n",
    "def read_word_vecs(filename):\n",
    "    wordVectors = {}\n",
    "    # ファイル読み込み\n",
    "    if filename.endswith('.gz'): \n",
    "        fileObject = gzip.open(filename, 'r')\n",
    "    else: \n",
    "        fileObject = codecs.open(filename, \"r\", \"utf-8\", 'ignore')\n",
    "        \n",
    "    for line in fileObject:\n",
    "        # line = line.strip().lower()\n",
    "        line = line.strip()\n",
    "        word = line.split()[0]\n",
    "        wordVectors[word] = numpy.zeros(len(line.split())-1, dtype=float)\n",
    "        for index, vecVal in enumerate(line.split()[1:]):\n",
    "            wordVectors[word][index] = float(vecVal)\n",
    "        \"\"\"normalize weight vector\"\"\"\n",
    "        wordVectors[word] /= math.sqrt((wordVectors[word]**2).sum() + 1e-6)\n",
    "\n",
    "    sys.stderr.write(\"Vectors read from: \"+filename+\" \\n\")\n",
    "    return wordVectors"
   ]
  },
  {
   "cell_type": "code",
   "execution_count": 4,
   "metadata": {
    "collapsed": true
   },
   "outputs": [],
   "source": [
    "\"\"\"Write word vectors to file\"\"\"\n",
    "def print_word_vecs(wordVectors, outFileName):\n",
    "    sys.stderr.write('\\nWriting down the vectors in '+outFileName+'\\n')\n",
    "    outFile = open(outFileName, 'w')  \n",
    "    for word, values in wordVectors.items():\n",
    "        outFile.write(word+' ')\n",
    "        for val in wordVectors[word]:\n",
    "            outFile.write('%.4f' %(val)+' ')\n",
    "        outFile.write('\\n')      \n",
    "    outFile.close()"
   ]
  },
  {
   "cell_type": "code",
   "execution_count": 5,
   "metadata": {
    "collapsed": true
   },
   "outputs": [],
   "source": [
    "\"\"\"Read the PPDB.etc word relations as a dictionary\"\"\"\n",
    "def read_lexicon(filename):\n",
    "    lexicon = {}\n",
    "    fileObject = open(filename, 'r')\n",
    "    for line in fileObject:\n",
    "        words = line.lower().strip().split()\n",
    "        lexicon[norm_word(words[0])] = [norm_word(word) for word in words[1:]]\n",
    "    return lexicon"
   ]
  },
  {
   "cell_type": "code",
   "execution_count": 6,
   "metadata": {
    "collapsed": true
   },
   "outputs": [],
   "source": [
    "\"\"\"Retrofit word vectors to a lexicon\"\"\"\n",
    "def retrofit(wordVecs, lexicon, numIters):\n",
    "    # Input word vecs\n",
    "    newWordVecs = deepcopy(wordVecs)\n",
    "    # Input word vecsの単語リスト\n",
    "    wvVocab = set(newWordVecs.keys())\n",
    "    # wvVocabとlexiconの共通単語\n",
    "    loopVocab = wvVocab.intersection(set(lexicon.keys()))\n",
    "\n",
    "    for _ in range(numIters): #10回程度\n",
    "        # loop through every node also in ontology (else just use data estimate)\n",
    "        for word in loopVocab:\n",
    "            # lexicon wordの近傍単語とwvVocabの共通単語とその個数\n",
    "            wordNeighbours = set(lexicon[word]).intersection(wvVocab)\n",
    "            numNeighbours = len(wordNeighbours)\n",
    "            # no neighbours -> pass - use data estimate\n",
    "            if numNeighbours == 0:\n",
    "                continue\n",
    "            \"\"\"分散表現の更新手続き\"\"\"\n",
    "            # the weight of the data estimate if the number of neighbours\n",
    "            newVec = numNeighbours * wordVecs[word]\n",
    "            # loop over neighbours and add to new vector (currently with weight 1)\n",
    "            for ppWord in wordNeighbours:\n",
    "                newVec += newWordVecs[ppWord]\n",
    "            newWordVecs[word] = newVec/(2*numNeighbours)\n",
    "    return newWordVecs"
   ]
  },
  {
   "cell_type": "code",
   "execution_count": 7,
   "metadata": {
    "collapsed": true
   },
   "outputs": [],
   "source": [
    "def similarity(v1, v2):\n",
    "    n1 = np.linalg.norm(v1) # v1のノルム\n",
    "    n2 = np.linalg.norm(v2) # v2のノルム\n",
    "    return np.dot(v1, v2) / (n1*n2) # 内積 / "
   ]
  },
  {
   "cell_type": "markdown",
   "metadata": {},
   "source": [
    "## ・パス指定"
   ]
  },
  {
   "cell_type": "code",
   "execution_count": 8,
   "metadata": {
    "collapsed": true
   },
   "outputs": [],
   "source": [
    "# オリジナルの分散表現\n",
    "input_arg = './word2vec/vectors.model'\n",
    "# wordnetの辞書\n",
    "lexicon_arg = './result.txt'\n",
    "# retrofittingしたnewvec\n",
    "output_arg = './out_vec.txt'"
   ]
  },
  {
   "cell_type": "code",
   "execution_count": 9,
   "metadata": {
    "collapsed": true
   },
   "outputs": [],
   "source": [
    "# Num iterations\n",
    "numiter_arg = 10"
   ]
  },
  {
   "cell_type": "markdown",
   "metadata": {},
   "source": [
    "## ・初期vecとnewvecとwordsim辞書のread"
   ]
  },
  {
   "cell_type": "code",
   "execution_count": 10,
   "metadata": {
    "collapsed": true
   },
   "outputs": [],
   "source": [
    "numIter = int(numiter_arg)"
   ]
  },
  {
   "cell_type": "code",
   "execution_count": 11,
   "metadata": {
    "collapsed": true
   },
   "outputs": [],
   "source": [
    "outFileName = output_arg"
   ]
  },
  {
   "cell_type": "code",
   "execution_count": 12,
   "metadata": {
    "collapsed": true,
    "scrolled": true
   },
   "outputs": [],
   "source": [
    "lexicon = read_lexicon(lexicon_arg)"
   ]
  },
  {
   "cell_type": "code",
   "execution_count": 13,
   "metadata": {
    "collapsed": false
   },
   "outputs": [
    {
     "name": "stderr",
     "output_type": "stream",
     "text": [
      "Vectors read from: ./word2vec/vectors.model \n"
     ]
    }
   ],
   "source": [
    "wordVecs = read_word_vecs(input_arg)"
   ]
  },
  {
   "cell_type": "code",
   "execution_count": 14,
   "metadata": {
    "collapsed": false
   },
   "outputs": [
    {
     "name": "stderr",
     "output_type": "stream",
     "text": [
      "Vectors read from: ./out_vec.txt \n"
     ]
    }
   ],
   "source": [
    "new_vec = read_word_vecs(output_arg)"
   ]
  },
  {
   "cell_type": "markdown",
   "metadata": {},
   "source": [
    "# -----------WordSim評価-----------"
   ]
  },
  {
   "cell_type": "code",
   "execution_count": 15,
   "metadata": {
    "collapsed": true
   },
   "outputs": [],
   "source": [
    "# word2vec\n",
    "vecs_wordVecs = wordVecs"
   ]
  },
  {
   "cell_type": "code",
   "execution_count": 16,
   "metadata": {
    "collapsed": true
   },
   "outputs": [],
   "source": [
    "# retrofitting\n",
    "vecs_new_vec = new_vec"
   ]
  },
  {
   "cell_type": "code",
   "execution_count": 36,
   "metadata": {
    "collapsed": false,
    "scrolled": true
   },
   "outputs": [],
   "source": [
    "def checkSim(v1, v2):\n",
    "    if v1 not in lexicon: # 注目単語がwordnetに含まれない場合，\n",
    "        print(\"v1(={})はwordnetのkeyに存在しません\".format(v1))\n",
    "        wordNeighbours_1 = set()\n",
    "    else:\n",
    "        # 注目単語の同義語リストとword2vecのkeyリストと重複する単語リスト（更新対象か？）\n",
    "        wordNeighbours_1 = set(lexicon[v1]).intersection(set(wordVecs.keys()))\n",
    "        print('v1(={})における更新対象のneighbour数 : {}'.format(v1, len(wordNeighbours_1)))\n",
    "        \n",
    "    # neighboursの中で注目単語と類似度が低いもの\n",
    "    ave_1_word2vec = np.zeros_like(wordVecs[v1])  #neighboursの平均ベクトル\n",
    "    ave_1_retrofit = np.zeros_like(wordVecs[v1])\n",
    "    for neighbour in wordNeighbours_1:\n",
    "        print('v1とneighbour(={}) : {} -> {}'.format(neighbour, \n",
    "                                                                   similarity(wordVecs[neighbour], wordVecs[v1]), \n",
    "                                                                   similarity(vecs_new_vec[neighbour], vecs_new_vec[v1])))\n",
    "        ave_1_word2vec += wordVecs[neighbour]\n",
    "        ave_1_retrofit += vecs_new_vec[neighbour]\n",
    "    print('v1とneighboursの平均ベクトル : {} -> {}'.format(similarity(ave_1_word2vec/len(wordNeighbours_1), wordVecs[v1]), \n",
    "                                                              similarity(ave_1_retrofit/len(wordNeighbours_1), vecs_new_vec[v1])))\n",
    "    print(\" \")\n",
    "    \n",
    "    if v2 not in lexicon:\n",
    "        print(\"v2(={})はwordnetのkeyに存在しません\".format(v2))\n",
    "        wordNeighbours_2 = set()\n",
    "    else:\n",
    "        wordNeighbours_2 = set(lexicon[v2]).intersection(set(wordVecs.keys()))\n",
    "        print('v2(={})における更新対象のneighbour数 : {}'.format(v2, len(wordNeighbours_2))) # 更新対象数\n",
    "    \n",
    "    # neighboursの中で注目単語と類似度が低いもの\n",
    "    ave_2_word2vec = np.zeros_like(wordVecs[v2])  #neighboursの平均ベクトル\n",
    "    ave_2_retrofit = np.zeros_like(wordVecs[v2])\n",
    "    for neighbour in wordNeighbours_2:\n",
    "        print('v2とneighbour(={}) : {} -> {}'.format(neighbour, \n",
    "                                                                   similarity(wordVecs[neighbour], wordVecs[v2]), \n",
    "                                                                   similarity(vecs_new_vec[neighbour], vecs_new_vec[v2])))\n",
    "        ave_2_word2vec += wordVecs[neighbour]\n",
    "        ave_2_retrofit += vecs_new_vec[neighbour]\n",
    "    print('v2とneighboursの平均ベクトル : {} -> {}'.format(similarity(ave_2_word2vec/len(wordNeighbours_2), wordVecs[v2]), \n",
    "                                                              similarity(ave_2_retrofit/len(wordNeighbours_2), vecs_new_vec[v2])))\n",
    "    print(\" \")\n",
    "    \n",
    "    # v1とv2における更新対象のneighbourに重複があるか\n",
    "    print('更新対象における重複 : {}'.format(set(wordNeighbours_1).intersection(set(wordNeighbours_2))))\n",
    "    print('更新対象における重複数 : {}'.format(len(set(wordNeighbours_1).intersection(set(wordNeighbours_2)))))\n",
    "    print(\" \")\n",
    "\n",
    "    \"\"\"v1とv2のword2vecとretrofittingにおける類似度\"\"\"\n",
    "    try:\n",
    "        print(\"word2vec : {}\".format(similarity(vecs_wordVecs[v1], vecs_wordVecs[v2])))\n",
    "    except:\n",
    "        print('error')\n",
    "\n",
    "    try:\n",
    "        print(\"retrofitting : {}\".format(similarity(vecs_new_vec[v1], vecs_new_vec[v2])))\n",
    "    except:\n",
    "        print('error')\n",
    "\n",
    "    print(\" \")\n",
    "    \"\"\"同一単語におけるword2vecとretrofittingの類似度\"\"\"\n",
    "    try:\n",
    "        print(\"v1 : {}\".format(similarity(vecs_wordVecs[v1], vecs_new_vec[v1])))\n",
    "    except:\n",
    "        print('error')\n",
    "\n",
    "    try:\n",
    "        print(\"v2 : {}\".format(similarity(vecs_wordVecs[v2], vecs_new_vec[v2])))\n",
    "    except:\n",
    "        print('error')"
   ]
  },
  {
   "cell_type": "markdown",
   "metadata": {},
   "source": [
    "## ・WordSimのテスト"
   ]
  },
  {
   "cell_type": "code",
   "execution_count": 34,
   "metadata": {
    "collapsed": false,
    "scrolled": true
   },
   "outputs": [],
   "source": [
    "v1 = 'フットボール'\n",
    "v2 = 'サッカー'\n",
    "# checkSim(v1, v2)"
   ]
  },
  {
   "cell_type": "code",
   "execution_count": 19,
   "metadata": {
    "collapsed": false,
    "scrolled": true
   },
   "outputs": [],
   "source": [
    "v1 = 'ドル'\n",
    "v2 = '円'\n",
    "# checkSim(v1, v2)"
   ]
  },
  {
   "cell_type": "code",
   "execution_count": 60,
   "metadata": {
    "collapsed": false,
    "scrolled": true
   },
   "outputs": [
    {
     "name": "stdout",
     "output_type": "stream",
     "text": [
      "v1(=間)における更新対象のneighbour数 : 84\n",
      "v1とneighbour(=繋がり) : 0.21342898562479795 -> 0.4704273621131348\n",
      "v1とneighbour(=関連) : 0.20028334657127156 -> 0.4598616756235437\n",
      "v1とneighbour(=頼り) : 0.1420511445578004 -> 0.4294354413661628\n",
      "v1とneighbour(=中休) : 0.3623476196967441 -> 0.5768493144794318\n",
      "v1とneighbour(=タイム) : 0.09461590080008835 -> 0.4162744891592635\n",
      "v1とneighbour(=切目) : 0.24241745652714772 -> 0.49463456340601514\n",
      "v1とneighbour(=間断) : 0.2136323528169702 -> 0.49988761717862207\n",
      "v1とneighbour(=コネクション) : 0.22698561769472408 -> 0.4847429430037322\n",
      "v1とneighbour(=切れ目) : 0.26547957637923114 -> 0.5188652249481165\n",
      "v1とneighbour(=小休) : 0.20640387701025137 -> 0.4913633054696056\n",
      "v1とneighbour(=ひと息) : 0.08731866656599313 -> 0.42964353061655974\n",
      "v1とneighbour(=間隔) : 0.44589792479299173 -> 0.6554575511332801\n",
      "v1とneighbour(=間合い) : 0.2868401360441464 -> 0.558988211216215\n",
      "v1とneighbour(=ブレーク) : 0.17344648384321548 -> 0.4545684039655927\n",
      "v1とneighbour(=中入り) : 0.13441843588037428 -> 0.44517292033876044\n",
      "v1とneighbour(=合間) : 0.3172314422218489 -> 0.6193421881658328\n",
      "v1とneighbour(=期間) : 0.33596247815047864 -> 0.5620986055383401\n",
      "v1とneighbour(=区切) : 0.259735537852275 -> 0.5615310195409079\n",
      "v1とneighbour(=間柄) : 0.25197894756759814 -> 0.49536559355067034\n",
      "v1とneighbour(=連関) : 0.21722361786789124 -> 0.48629836582097813\n",
      "v1とneighbour(=引掛り) : 0.1655373770512957 -> 0.491485389192712\n",
      "v1とneighbour(=距離) : 0.3761718620605609 -> 0.6087428846016764\n",
      "v1とneighbour(=コネ) : 0.22841968308574995 -> 0.4828681450040676\n",
      "v1とneighbour(=時) : 0.3354727109765124 -> 0.5307636245563437\n",
      "v1とneighbour(=晴れ間) : 0.179307014786693 -> 0.47538001367377064\n",
      "v1とneighbour(=絶えま) : 0.2507915738251675 -> 0.5354824567428796\n",
      "v1とneighbour(=室) : 0.21517777522904796 -> 0.44089608902430516\n",
      "v1とneighbour(=お部屋) : 0.15244585994173332 -> 0.44481591169564727\n",
      "v1とneighbour(=中入) : 0.16223859589718717 -> 0.45878896394547275\n",
      "v1とneighbour(=連絡) : 0.4032772692929 -> 0.6027738257407687\n",
      "v1とneighbour(=区切り) : 0.18668312020036346 -> 0.5065998198671655\n",
      "v1とneighbour(=幕間) : 0.20751612065568964 -> 0.49236961770352755\n",
      "v1とneighbour(=中絶) : 0.1142937362228791 -> 0.40104385064910136\n",
      "v1とneighbour(=幕の内) : 0.1515293376574447 -> 0.4627916202035107\n",
      "v1とneighbour(=ルーム) : 0.15119100429561355 -> 0.438539975383427\n",
      "v1とneighbour(=すき間) : 0.25229391041054716 -> 0.5110882597244544\n",
      "v1とneighbour(=かかわり合い) : 0.16395637956574677 -> 0.44811748893160575\n",
      "v1とneighbour(=ポーズ) : 0.13377227280467616 -> 0.42640571005069905\n",
      "v1とneighbour(=休み) : 0.218560116622741 -> 0.4889477421198873\n",
      "v1とneighbour(=時間) : 0.26869751065913866 -> 0.5319090432815909\n",
      "v1とneighbour(=音程) : 0.13815624834961807 -> 0.4985221931998081\n",
      "v1とneighbour(=座敷) : 0.22343983977390686 -> 0.46706484299869333\n",
      "v1とneighbour(=リレーション) : 0.18370202157591198 -> 0.46125727466094046\n",
      "v1とneighbour(=縁) : 0.19195892470701256 -> 0.46104147144834884\n",
      "v1とneighbour(=幕あい) : 0.22394729727106508 -> 0.5214860467050179\n",
      "v1とneighbour(=人間関係) : 0.2102817782186954 -> 0.4895511015879419\n",
      "v1とneighbour(=休止) : 0.22780664019445618 -> 0.4866246880161372\n",
      "v1とneighbour(=休) : 0.21786018506289623 -> 0.48327322376578596\n",
      "v1とneighbour(=中断) : 0.23527386148876084 -> 0.49150846721524805\n",
      "v1とneighbour(=部屋) : 0.16069323151189993 -> 0.33188014681168415\n",
      "v1とneighbour(=停会) : 0.13571789310630153 -> 0.4330189584718893\n",
      "v1とneighbour(=間隙) : 0.32383137572340626 -> 0.5584600922488457\n",
      "v1とneighbour(=一段落) : 0.24169815119115207 -> 0.5050538584990858\n",
      "v1とneighbour(=狭間) : 0.2770079482804439 -> 0.5542114737809107\n",
      "v1とneighbour(=引っ掛かり) : 0.15429132372594423 -> 0.4576385857931962\n",
      "v1とneighbour(=切れ間) : 0.21889840162175483 -> 0.5043469782901567\n",
      "v1とneighbour(=途絶) : 0.2362190347245735 -> 0.5037433923276967\n",
      "v1とneighbour(=すきま) : 0.1964837969549152 -> 0.4966277538169532\n",
      "v1とneighbour(=ひと休み) : 0.23614331161245689 -> 0.5152183109266599\n",
      "v1とneighbour(=お座敷) : 0.23404329552243766 -> 0.468164313832845\n",
      "v1とneighbour(=隙) : 0.27274632411775734 -> 0.5386210696112169\n",
      "v1とneighbour(=関わり) : 0.2156134501332612 -> 0.47385294619051505\n",
      "v1とneighbour(=中休み) : 0.2760303022812234 -> 0.5266540780479622\n",
      "v1とneighbour(=スパン) : 0.27324094494292506 -> 0.5408472971464332\n",
      "v1とneighbour(=隔たり) : 0.37184405694737266 -> 0.5766280040201847\n",
      "v1とneighbour(=一息) : 0.18099181325682084 -> 0.4677914262361062\n",
      "v1とneighbour(=因縁) : 0.1610592616931119 -> 0.41141006369443844\n",
      "v1とneighbour(=絶え間) : 0.29791582158343305 -> 0.5511407326903375\n",
      "v1とneighbour(=梁間) : 0.28381278022715917 -> 0.6330587271458875\n",
      "v1とneighbour(=結び付き) : 0.28086145445598665 -> 0.5053147064241735\n",
      "v1とneighbour(=インターバル) : 0.20502590052815714 -> 0.5387041541616693\n",
      "v1とneighbour(=一休み) : 0.21280083545617912 -> 0.4854905997012025\n",
      "v1とneighbour(=所縁) : 0.13925582438823533 -> 0.43084980562894404\n",
      "v1とneighbour(=係り) : 0.2499731100589666 -> 0.5301583439703302\n",
      "v1とneighbour(=停止) : 0.19730995464743734 -> 0.4531951397379795\n",
      "v1とneighbour(=仲) : 0.2337072653453572 -> 0.49362996249844276\n",
      "v1とneighbour(=透き) : 0.1286102435888574 -> 0.46032907469253453\n",
      "v1とneighbour(=関連性) : 0.19956511468875113 -> 0.4689596371989479\n",
      "v1とneighbour(=隙間) : 0.33240829668226884 -> 0.5540906158823092\n",
      "v1とneighbour(=一時停止) : 0.1001457587018133 -> 0.4060087013992691\n",
      "v1とneighbour(=関係) : 0.3751781049315089 -> 0.576519323610831\n",
      "v1とneighbour(=縁故) : 0.1575763407487853 -> 0.4125259576572304\n",
      "v1とneighbour(=中止) : 0.12374689228744108 -> 0.37026116821537086\n",
      "v1とneighbour(=ブレイク) : 0.13942815714799084 -> 0.4466384322449931\n",
      "v1とneighboursの平均ベクトル : 0.4910433309904623 -> 0.7433943619848025\n",
      " \n",
      "v2(=時間)における更新対象のneighbour数 : 17\n",
      "v2とneighbour(=期) : 0.15600930368981783 -> 0.5331805126845724\n",
      "v2とneighbour(=時) : 0.38423255742168827 -> 0.6316006586437078\n",
      "v2とneighbour(=隔たり) : 0.3091979199134461 -> 0.5241755363324336\n",
      "v2とneighbour(=時期) : 0.2934545392214264 -> 0.5977257288071808\n",
      "v2とneighbour(=間) : 0.26869751065913866 -> 0.5319090432815909\n",
      "v2とneighbour(=分) : 0.3005110880951439 -> 0.5946863974792234\n",
      "v2とneighbour(=ピリオド) : 0.283348964278496 -> 0.6089144983961549\n",
      "v2とneighbour(=時代) : 0.21101043852918688 -> 0.5326352781591752\n",
      "v2とneighbour(=スパン) : 0.27293416189357594 -> 0.5948697510163097\n",
      "v2とneighbour(=間隔) : 0.4432908397716958 -> 0.6688688239872738\n",
      "v2とneighbour(=min) : 0.2500649816095414 -> 0.5892598192492156\n",
      "v2とneighbour(=h) : 0.2529644087206496 -> 0.5004576519963398\n",
      "v2とneighbour(=期間) : 0.48360059445399095 -> 0.717565504334935\n",
      "v2とneighbour(=年代) : 0.2503003675437666 -> 0.5527613156350255\n",
      "v2とneighbour(=時刻) : 0.589462096706608 -> 0.7558288808772141\n",
      "v2とneighbour(=会期) : 0.255171857497246 -> 0.5893541340241772\n",
      "v2とneighbour(=刻限) : 0.383239872523745 -> 0.7112648362597653\n",
      "v2とneighboursの平均ベクトル : 0.5993080768225985 -> 0.8316346515841617\n",
      " \n",
      "更新対象における重複 : {'隔たり', '時', '間隔', '期間', 'スパン'}\n",
      "更新対象における重複数 : 5\n",
      " \n",
      "word2vec : 0.26869751065913866\n",
      "retrofitting : 0.5319090432815909\n",
      " \n",
      "v1 : 0.9549190503198967\n",
      "v2 : 0.961984526388098\n"
     ]
    }
   ],
   "source": [
    "v1 = '間'\n",
    "v2 = '時間'\n",
    "checkSim(v1, v2)"
   ]
  },
  {
   "cell_type": "code",
   "execution_count": 63,
   "metadata": {
    "collapsed": false,
    "scrolled": true
   },
   "outputs": [
    {
     "name": "stdout",
     "output_type": "stream",
     "text": [
      "v1(=足)における更新対象のneighbour数 : 31\n",
      "v1とneighbour(=足下) : 0.3857479176881243 -> 0.5905864793587807\n",
      "v1とneighbour(=交通手段) : 0.300802704374794 -> 0.5489118627304612\n",
      "v1とneighbour(=鳥目) : 0.31390175669188636 -> 0.5710542761849712\n",
      "v1とneighbour(=通運) : 0.12809331353851025 -> 0.4275384392097293\n",
      "v1とneighbour(=金子) : 0.22149034045881025 -> 0.5099070388389261\n",
      "v1とneighbour(=足元) : 0.4482701929937417 -> 0.6187163250924947\n",
      "v1とneighbour(=脚) : 0.6138774297145551 -> 0.7486451002682474\n",
      "v1とneighbour(=銀子) : 0.1711036874788435 -> 0.4809907643312406\n",
      "v1とneighbour(=ゲル) : 0.13548733018638942 -> 0.46418036374360894\n",
      "v1とneighbour(=お金) : 0.23939181169632903 -> 0.4914846415249338\n",
      "v1とneighbour(=足もと) : 0.3372794715771023 -> 0.5565535196200979\n",
      "v1とneighbour(=金銭) : 0.20123901305796307 -> 0.4742061774446219\n",
      "v1とneighbour(=金円) : 0.25956176094111694 -> 0.5519071721176427\n",
      "v1とneighbour(=交通網) : 0.26481051656296023 -> 0.5321410373231001\n",
      "v1とneighbour(=丸物) : 0.15758124122715855 -> 0.4732261785604359\n",
      "v1とneighbour(=足部) : 0.3856471457437549 -> 0.7674177017232713\n",
      "v1とneighbour(=麓) : 0.21173865467814618 -> 0.509156808067786\n",
      "v1とneighbour(=渡り) : 0.21855000599053798 -> 0.5173989813901725\n",
      "v1とneighbour(=トランスポーテーション) : 0.1349039022527882 -> 0.4508412877640121\n",
      "v1とneighbour(=黄金) : 0.24301654647273857 -> 0.5333797896577873\n",
      "v1とneighbour(=交通機関) : 0.28596551834054185 -> 0.5455792556146175\n",
      "v1とneighbour(=ちゃんころ) : 0.21382891103416624 -> 0.529926059501456\n",
      "v1とneighbour(=マネー) : 0.15578702052154972 -> 0.4298240991577831\n",
      "v1とneighbour(=銭金) : 0.2337853412947557 -> 0.4963573002251644\n",
      "v1とneighbour(=韻脚) : 0.1744981522586843 -> 0.5939047660252221\n",
      "v1とneighbour(=金) : 0.1974060855082842 -> 0.47222603808257957\n",
      "v1とneighbour(=銭) : 0.18923684748676697 -> 0.4676856564853027\n",
      "v1とneighbour(=金員) : 0.11774511514914714 -> 0.42969177237046896\n",
      "v1とneighbour(=黄白) : 0.2458125639774523 -> 0.5086754988802655\n",
      "v1とneighbour(=ゲルト) : 0.11583661211769336 -> 0.4407557122364919\n",
      "v1とneighbour(=丸) : 0.17110204635083343 -> 0.470508489649046\n",
      "v1とneighboursの平均ベクトル : 0.5123492891910761 -> 0.7667217134848855\n",
      " \n",
      "v2(=交通手段)における更新対象のneighbour数 : 6\n",
      "v2とneighbour(=通運) : 0.25302582305696675 -> 0.6342385031681019\n",
      "v2とneighbour(=交通機関) : 0.764259536150095 -> 0.9025206691537948\n",
      "v2とneighbour(=交通網) : 0.6105227941529127 -> 0.836726528077293\n",
      "v2とneighbour(=足) : 0.300802704374794 -> 0.5489118627304612\n",
      "v2とneighbour(=渡り) : 0.1684402736259537 -> 0.5478098281319825\n",
      "v2とneighbour(=トランスポーテーション) : 0.2701587220447879 -> 0.6514414251643296\n",
      "v2とneighboursの平均ベクトル : 0.6513742422108982 -> 0.8552737617641959\n",
      " \n",
      "更新対象における重複 : {'通運', '交通機関', '交通網', '渡り', 'トランスポーテーション'}\n",
      "更新対象における重複数 : 5\n",
      " \n",
      "word2vec : 0.300802704374794\n",
      "retrofitting : 0.5489118627304612\n",
      " \n",
      "v1 : 0.9541959086670916\n",
      "v2 : 0.9594986093108966\n"
     ]
    }
   ],
   "source": [
    "v1 = '足'\n",
    "v2 = '交通手段'\n",
    "checkSim(v1, v2)"
   ]
  },
  {
   "cell_type": "code",
   "execution_count": 92,
   "metadata": {
    "collapsed": false,
    "scrolled": true
   },
   "outputs": [
    {
     "name": "stdout",
     "output_type": "stream",
     "text": [
      "v1(=切る)における更新対象のneighbour数 : 79\n",
      "v1とneighbour(=句切る) : 0.23680833603045093 -> 0.5213595549558694\n",
      "v1とneighbour(=成し遂げる) : 0.23137618784745967 -> 0.45707871491784374\n",
      "v1とneighbour(=別ける) : 0.14839166375869986 -> 0.408651889166032\n",
      "v1とneighbour(=取止める) : 0.21293213883054 -> 0.5103299298384512\n",
      "v1とneighbour(=区画) : 0.19555653183631092 -> 0.43826425421974946\n",
      "v1とneighbour(=分かつ) : 0.1149997218182326 -> 0.418255539906376\n",
      "v1とneighbour(=打切る) : 0.2285784087737064 -> 0.5206755618004563\n",
      "v1とneighbour(=裁つ) : 0.3923758804955995 -> 0.6600817308410425\n",
      "v1とneighbour(=刈り込む) : 0.27338561252757954 -> 0.5598015733500732\n",
      "v1とneighbour(=裁断) : 0.3020140134765606 -> 0.5395004251986637\n",
      "v1とneighbour(=仕上げる) : 0.29325470347201693 -> 0.5577451395927542\n",
      "v1とneighbour(=中止) : 0.1157558400933728 -> 0.40984485713496704\n",
      "v1とneighbour(=カット) : 0.3855937142429067 -> 0.5939917695046227\n",
      "v1とneighbour(=取りやめる) : 0.15512417755773605 -> 0.44918518756583314\n",
      "v1とneighbour(=剪定) : 0.2864007297760136 -> 0.5851313761094258\n",
      "v1とneighbour(=差し止める) : 0.09972366222908197 -> 0.41611689157340215\n",
      "v1とneighbour(=終る) : 0.24940096303959025 -> 0.4994503794248883\n",
      "v1とneighbour(=切捨てる) : 0.29194392091733046 -> 0.5731599072227213\n",
      "v1とneighbour(=為し遂げる) : 0.25372729207541034 -> 0.47969763875566945\n",
      "v1とneighbour(=剥す) : 0.2418883277120538 -> 0.5507937591753461\n",
      "v1とneighbour(=止める) : 0.4110488641365127 -> 0.6176103927906097\n",
      "v1とneighbour(=切り下げる) : 0.2666729829577241 -> 0.5660414153031209\n",
      "v1とneighbour(=摘み取る) : 0.3737025503887115 -> 0.5986642937446551\n",
      "v1とneighbour(=切り放す) : 0.29810458374265825 -> 0.6138177282010091\n",
      "v1とneighbour(=終わる) : 0.25359520368077787 -> 0.4985792382202351\n",
      "v1とneighbour(=切り伏せる) : 0.3494211760078371 -> 0.6593181154695247\n",
      "v1とneighbour(=切り落とす) : 0.5214520622235772 -> 0.7221147400471339\n",
      "v1とneighbour(=交ぜる) : 0.1455448832307415 -> 0.40054827869262544\n",
      "v1とneighbour(=裁ち切る) : 0.4664602687135117 -> 0.7230988435612042\n",
      "v1とneighbour(=截断) : 0.20696201966724717 -> 0.5830394762680057\n",
      "v1とneighbour(=切り落す) : 0.4301436786219545 -> 0.6904609886706354\n",
      "v1とneighbour(=削る) : 0.3724676407551559 -> 0.609391530034953\n",
      "v1とneighbour(=取り分ける) : 0.2756257691219799 -> 0.5173291407383622\n",
      "v1とneighbour(=断ち切る) : 0.443890970856797 -> 0.6592669769488702\n",
      "v1とneighbour(=打ち上げる) : 0.1609700189598673 -> 0.4649523695003121\n",
      "v1とneighbour(=断ち割る) : 0.3589159166888621 -> 0.6119709586618591\n",
      "v1とneighbour(=切り裂く) : 0.4704405726101424 -> 0.7105224540893039\n",
      "v1とneighbour(=仕切る) : 0.27942286880122325 -> 0.5356902111866314\n",
      "v1とneighbour(=掻き混ぜる) : 0.4201374375301219 -> 0.6159222820216728\n",
      "v1とneighbour(=中絶) : 0.1676199867119425 -> 0.4510303983666436\n",
      "v1とneighbour(=打ちきる) : 0.24612977682924975 -> 0.5880055054308676\n",
      "v1とneighbour(=解消) : 0.17365190361098037 -> 0.44799165386372974\n",
      "v1とneighbour(=分ける) : 0.20397068177764519 -> 0.45846031758969663\n",
      "v1とneighbour(=終える) : 0.24876117858746638 -> 0.49683050632821496\n",
      "v1とneighbour(=剥がす) : 0.33651285118448515 -> 0.5975554981875274\n",
      "v1とneighbour(=切り倒す) : 0.33861270908486685 -> 0.6506278562718156\n",
      "v1とneighbour(=取り止める) : 0.17609921955214514 -> 0.4647044339082077\n",
      "v1とneighbour(=区分) : 0.08332200422774969 -> 0.3521957352983457\n",
      "v1とneighbour(=折る) : 0.4303177210238184 -> 0.7108394219674636\n",
      "v1とneighbour(=切り捨てる) : 0.38493397977280397 -> 0.6215298024409714\n",
      "v1とneighbour(=休止) : 0.11084865459808381 -> 0.40869676029116003\n",
      "v1とneighbour(=中断) : 0.20457203456745177 -> 0.4907018682675233\n",
      "v1とneighbour(=刈る) : 0.35392686043326166 -> 0.6359168180940676\n",
      "v1とneighbour(=切断) : 0.43861194938489495 -> 0.6889453499574596\n",
      "v1とneighbour(=混ぜる) : 0.37145387461161483 -> 0.538916149178846\n",
      "v1とneighbour(=打ち切る) : 0.20849935586748497 -> 0.4913043994561455\n",
      "v1とneighbour(=分割) : 0.15087522794172786 -> 0.42124631935377665\n",
      "v1とneighbour(=切り払う) : 0.35599792158252463 -> 0.6419686458813401\n",
      "v1とneighbour(=済ます) : 0.23944032580699254 -> 0.5094830339678856\n",
      "v1とneighbour(=かき混ぜる) : 0.347930271693806 -> 0.5567742552190342\n",
      "v1とneighbour(=伐る) : 0.259087753254167 -> 0.6141967882620867\n",
      "v1とneighbour(=打上げる) : 0.1586937414092867 -> 0.47129601979156815\n",
      "v1とneighbour(=止す) : 0.29428337755419365 -> 0.5587113272374686\n",
      "v1とneighbour(=断つ) : 0.4395267599809043 -> 0.6261047372170706\n",
      "v1とneighbour(=済む) : 0.2874820837784224 -> 0.550550830940227\n",
      "v1とneighbour(=切り上げる) : 0.28491753796882235 -> 0.551961323030851\n",
      "v1とneighbour(=切り取る) : 0.4507226670145385 -> 0.6972078410956736\n",
      "v1とneighbour(=刻む) : 0.36452911354171647 -> 0.565885750084617\n",
      "v1とneighbour(=停止) : 0.21597361343597063 -> 0.4863842606584766\n",
      "v1とneighbour(=割る) : 0.4195843357550576 -> 0.6184938797062474\n",
      "v1とneighbour(=遂げる) : 0.273984889314548 -> 0.48529636227892614\n",
      "v1とneighbour(=仕舞う) : 0.2505409341368789 -> 0.5078738042615369\n",
      "v1とneighbour(=遮る) : 0.2574562124375847 -> 0.50626384594918\n",
      "v1とneighbour(=絶つ) : 0.35319469731301245 -> 0.5768715486321979\n",
      "v1とneighbour(=区分け) : 0.08244019435400965 -> 0.35803976598333687\n",
      "v1とneighbour(=分つ) : 0.16710030313231658 -> 0.43700340831427636\n",
      "v1とneighbour(=カッティング) : 0.27963310332835223 -> 0.5933528379411331\n",
      "v1とneighbour(=区切る) : 0.2614046662903668 -> 0.5107094746472672\n",
      "v1とneighbour(=ストップ) : 0.31852732362482034 -> 0.5462703342943119\n",
      "v1とneighboursの平均ベクトル : 0.5846919536004557 -> 0.7951607596461876\n",
      " \n",
      "v2(=混ぜる)における更新対象のneighbour数 : 55\n",
      "v2とneighbour(=交える) : 0.38085420986160673 -> 0.6489705000270283\n",
      "v2とneighbour(=組みあわせる) : 0.39013976837227604 -> 0.6608518743490502\n",
      "v2とneighbour(=練りあわせる) : 0.6739020894557571 -> 0.8263925323889746\n",
      "v2とneighbour(=合併) : 0.16313242365842232 -> 0.4392375173485499\n",
      "v2とneighbour(=掻き立てる) : 0.2626366674616992 -> 0.5303759673364217\n",
      "v2とneighbour(=合せる) : 0.3681683670164989 -> 0.6242314776653369\n",
      "v2とneighbour(=混成) : 0.2467850479003991 -> 0.5771126634515635\n",
      "v2とneighbour(=泡立てる) : 0.5810846427950408 -> 0.7622795674860118\n",
      "v2とneighbour(=混ざる) : 0.6058944867515491 -> 0.7785730043827105\n",
      "v2とneighbour(=組み合せる) : 0.3146548708871695 -> 0.5917579502889109\n",
      "v2とneighbour(=複合) : 0.19639320743290117 -> 0.5524645817387479\n",
      "v2とneighbour(=合す) : 0.2733016641225776 -> 0.586342107331806\n",
      "v2とneighbour(=煽る) : 0.3239527156168194 -> 0.5191573853669463\n",
      "v2とneighbour(=結び付ける) : 0.30518955533223546 -> 0.5558749422237963\n",
      "v2とneighbour(=混同) : 0.29798011342970815 -> 0.5863177771218722\n",
      "v2とneighbour(=一元化) : 0.11362324439950497 -> 0.4986204404340116\n",
      "v2とneighbour(=交ぜる) : 0.45173176108054963 -> 0.711525651808284\n",
      "v2とneighbour(=まとめる) : 0.2862522183856898 -> 0.5678493163352233\n",
      "v2とneighbour(=かき回す) : 0.3768835185460632 -> 0.641662832719461\n",
      "v2とneighbour(=ミックス) : 0.4107383951948546 -> 0.6778857047997242\n",
      "v2とneighbour(=混一) : 0.234494014963819 -> 0.5843828700454542\n",
      "v2とneighbour(=組み合す) : 0.2555533223795631 -> 0.5565845179627802\n",
      "v2とneighbour(=掻き混ぜる) : 0.6115457387605582 -> 0.7814930430392522\n",
      "v2とneighbour(=交ざる) : 0.3862263833458964 -> 0.6551611153119978\n",
      "v2とneighbour(=合わす) : 0.24946064445246308 -> 0.5689833763260973\n",
      "v2とneighbour(=配合) : 0.518099001205786 -> 0.7316342483960236\n",
      "v2とneighbour(=一体化) : 0.1779403739828303 -> 0.47212960595822717\n",
      "v2とneighbour(=組合せる) : 0.36040952882701005 -> 0.6112183475491195\n",
      "v2とneighbour(=合同) : 0.17590786058913654 -> 0.4651189224259577\n",
      "v2とneighbour(=組み合わせる) : 0.4811031280767642 -> 0.7236835033481414\n",
      "v2とneighbour(=混ぜ合わす) : 0.5753385381530793 -> 0.7773729430557288\n",
      "v2とneighbour(=入り交じる) : 0.3016199140660275 -> 0.6228481045738516\n",
      "v2とneighbour(=合体) : 0.20579897201756633 -> 0.5205331761588688\n",
      "v2とneighbour(=かき混ぜる) : 0.6001277034445663 -> 0.7680457879347911\n",
      "v2とneighbour(=加える) : 0.42237369966849025 -> 0.6196347314495249\n",
      "v2とneighbour(=合わせる) : 0.33842981857241616 -> 0.6261042830241362\n",
      "v2とneighbour(=混合) : 0.4841629332709311 -> 0.7168542179754079\n",
      "v2とneighbour(=混じる) : 0.4704831457306052 -> 0.7025670302861432\n",
      "v2とneighbour(=取り混ぜる) : 0.3600585984712277 -> 0.655321546505093\n",
      "v2とneighbour(=組み合わす) : 0.31888267939379755 -> 0.5925353385375589\n",
      "v2とneighbour(=掻きたてる) : 0.3160177235662476 -> 0.5584250007713563\n",
      "v2とneighbour(=調合) : 0.509601839302679 -> 0.7299959625990535\n",
      "v2とneighbour(=かき立てる) : 0.25996078985128973 -> 0.5051104895408768\n",
      "v2とneighbour(=練り合わせる) : 0.6783601462502098 -> 0.8269359188743381\n",
      "v2とneighbour(=攪拌) : 0.4968505399582264 -> 0.6852317948805923\n",
      "v2とneighbour(=合成) : 0.3793870952900384 -> 0.6020759313115195\n",
      "v2とneighbour(=撹拌) : 0.49980616912452797 -> 0.6731988537271787\n",
      "v2とneighbour(=結合) : 0.29907467934192256 -> 0.5653012266467425\n",
      "v2とneighbour(=合わさる) : 0.36965054570971745 -> 0.6455397915666985\n",
      "v2とneighbour(=混入) : 0.5784611949357226 -> 0.8088241413185625\n",
      "v2とneighbour(=ブレンド) : 0.5308314614107476 -> 0.7439682883127368\n",
      "v2とneighbour(=交じる) : 0.4018076910027317 -> 0.6621910474190238\n",
      "v2とneighbour(=切る) : 0.37145387461161483 -> 0.538916149178846\n",
      "v2とneighbour(=化合) : 0.3151768691215649 -> 0.6205747032352319\n",
      "v2とneighbour(=結びつける) : 0.31991947572537166 -> 0.601348049136808\n",
      "v2とneighboursの平均ベクトル : 0.7326938963975027 -> 0.8656656928202622\n",
      " \n",
      "更新対象における重複 : {'かき混ぜる', '交ぜる', '掻き混ぜる'}\n",
      "更新対象における重複数 : 3\n",
      " \n",
      "word2vec : 0.37145387461161483\n",
      "retrofitting : 0.538916149178846\n",
      " \n",
      "v1 : 0.959820701972191\n",
      "v2 : 0.9690859986012459\n"
     ]
    }
   ],
   "source": [
    "v1 = '切る'\n",
    "v2 = '混ぜる'\n",
    "checkSim(v1, v2)"
   ]
  },
  {
   "cell_type": "code",
   "execution_count": 101,
   "metadata": {
    "collapsed": false,
    "scrolled": true
   },
   "outputs": [
    {
     "name": "stdout",
     "output_type": "stream",
     "text": [
      "v1(=最後)における更新対象のneighbour数 : 97\n",
      "v1とneighbour(=終局) : 0.2208766651605024 -> 0.5461299707841252\n",
      "v1とneighbour(=止め) : 0.2589320321143105 -> 0.5669881867157595\n",
      "v1とneighbour(=端っこ) : 0.22907876748674524 -> 0.4681471171593578\n",
      "v1とneighbour(=先端) : 0.1605448481732543 -> 0.4162075380602424\n",
      "v1とneighbour(=端末) : 0.1282980159962607 -> 0.426163519672441\n",
      "v1とneighbour(=結び) : 0.194539608892796 -> 0.49793410601157884\n",
      "v1とneighbour(=没) : 0.22996741674378662 -> 0.5131021198726348\n",
      "v1とneighbour(=終止) : 0.25020420583081415 -> 0.5455042851545923\n",
      "v1とneighbour(=落命) : 0.2295890469843856 -> 0.5095025215822989\n",
      "v1とneighbour(=結尾) : 0.27909235928909853 -> 0.5776553028204098\n",
      "v1とneighbour(=挙げ句の果て) : 0.15778797822380383 -> 0.4905386248606585\n",
      "v1とneighbour(=死歿) : 0.3215910685347451 -> 0.5789926352054033\n",
      "v1とneighbour(=不祝儀) : 0.2043014271009203 -> 0.5047314496421658\n",
      "v1とneighbour(=最期) : 0.49267923633689586 -> 0.7355837857746595\n",
      "v1とneighbour(=絶命) : 0.2712655098675786 -> 0.5480728159134739\n",
      "v1とneighbour(=歿) : 0.23057067792925043 -> 0.5026495893210398\n",
      "v1とneighbour(=終) : 0.2982753296794629 -> 0.6043445514735583\n",
      "v1とneighbour(=尾端) : 0.19396473902087613 -> 0.4573458617248633\n",
      "v1とneighbour(=一死) : 0.21690176128526698 -> 0.5124239615998569\n",
      "v1とneighbour(=入滅) : 0.1027756332854493 -> 0.4372262128596118\n",
      "v1とneighbour(=遷化) : 0.16481667371857073 -> 0.4680505562162982\n",
      "v1とneighbour(=往生) : 0.12261565098924002 -> 0.45330175857705945\n",
      "v1とneighbour(=死出の旅) : 0.22216508189113815 -> 0.5216437817324732\n",
      "v1とneighbour(=落ち) : 0.1979886913196506 -> 0.5143366970222644\n",
      "v1とneighbour(=末尾) : 0.3389255807508287 -> 0.6234131459317435\n",
      "v1とneighbour(=末) : 0.4251832807531354 -> 0.6581084873406661\n",
      "v1とneighbour(=不幸) : 0.242912780754758 -> 0.5009859057043082\n",
      "v1とneighbour(=一巻の終わり) : 0.38794571705545444 -> 0.6365830253769571\n",
      "v1とneighbour(=ポア) : 0.13086330113078776 -> 0.4621177020688018\n",
      "v1とneighbour(=辞世) : 0.2193463271320907 -> 0.5217260161293849\n",
      "v1とneighbour(=終盤) : 0.4846140093130084 -> 0.6943662945851286\n",
      "v1とneighbour(=帰結) : 0.18488549880751934 -> 0.5145442179370614\n",
      "v1とneighbour(=決り) : 0.22956146487320614 -> 0.5296002814376385\n",
      "v1とneighbour(=端) : 0.2241404961404967 -> 0.4527709576295371\n",
      "v1とneighbour(=終焉) : 0.3958242537904653 -> 0.6439401553705172\n",
      "v1とneighbour(=隠れ) : 0.1465330795382447 -> 0.4653758508837314\n",
      "v1とneighbour(=詰) : 0.14743798308608827 -> 0.49096606038715984\n",
      "v1とneighbour(=決) : 0.23324551990419254 -> 0.5475174802868329\n",
      "v1とneighbour(=終幕) : 0.3995505346100672 -> 0.6373303265602583\n",
      "v1とneighbour(=死没) : 0.17434079386921708 -> 0.4702565746689059\n",
      "v1とneighbour(=死神) : 0.15429153988160946 -> 0.48812193965382467\n",
      "v1とneighbour(=永眠) : 0.20304573870490011 -> 0.4933821224490994\n",
      "v1とneighbour(=落) : 0.11860822553000061 -> 0.4898050686384637\n",
      "v1とneighbour(=エンディング) : 0.31630332749203977 -> 0.5961601872632601\n",
      "v1とneighbour(=死去) : 0.22859821626317073 -> 0.4993486179907626\n",
      "v1とneighbour(=不帰) : 0.27229744264407385 -> 0.5446747719622745\n",
      "v1とneighbour(=閉眼) : 0.1559131655293844 -> 0.4799760370715459\n",
      "v1とneighbour(=死) : 0.2858083589049995 -> 0.5543314308679546\n",
      "v1とneighbour(=おしまい) : 0.2658630775324031 -> 0.5718717461741609\n",
      "v1とneighbour(=最終) : 0.5193439922310479 -> 0.7084296284773431\n",
      "v1とneighbour(=終り) : 0.3199868314227697 -> 0.6032656909600135\n",
      "v1とneighbour(=物故) : 0.1977773019877729 -> 0.4763454657924378\n",
      "v1とneighbour(=決着) : 0.3001866917113678 -> 0.5760095387669416\n",
      "v1とneighbour(=末端) : 0.19987576798120002 -> 0.4596379230682883\n",
      "v1とneighbour(=エンド) : 0.2716304413789409 -> 0.5667035267646413\n",
      "v1とneighbour(=他界) : 0.2289876647280445 -> 0.505524473560674\n",
      "v1とneighbour(=終極) : 0.20063027914581658 -> 0.5282110657129856\n",
      "v1とneighbour(=完) : 0.24838833135387905 -> 0.571967617115775\n",
      "v1とneighbour(=死に神) : 0.19226322672237767 -> 0.5067637956824028\n",
      "v1とneighbour(=寂滅) : 0.17491899500234429 -> 0.4948095487344029\n",
      "v1とneighbour(=召天) : 0.23090716063732974 -> 0.5111243591797646\n",
      "v1とneighbour(=極端) : 0.23894329574907086 -> 0.45733992051943895\n",
      "v1とneighbour(=絶息) : 0.30961983890491174 -> 0.5747890840828482\n",
      "v1とneighbour(=後端) : 0.2359564096458412 -> 0.48614729101914866\n",
      "v1とneighbour(=末梢) : 0.09307482419167804 -> 0.422597842813763\n",
      "v1とneighbour(=ラスト) : 0.5823185517420342 -> 0.7539712081948655\n",
      "v1とneighbour(=眠り) : 0.14438248475536467 -> 0.46700302142367134\n",
      "v1とneighbour(=登仙) : 0.2214361702082494 -> 0.523296755711193\n",
      "v1とneighbour(=尻) : 0.1931698507058553 -> 0.48135808543497033\n",
      "v1とneighbour(=尖端) : 0.105910640947319 -> 0.3854285144653031\n",
      "v1とneighbour(=逝去) : 0.2795723265282469 -> 0.5323779719932271\n",
      "v1とneighbour(=終末) : 0.21338859670904012 -> 0.55392170206064\n",
      "v1とneighbour(=末方) : 0.311718792191644 -> 0.6266219454709994\n",
      "v1とneighbour(=終結) : 0.3592855240559161 -> 0.6144952940752978\n",
      "v1とneighbour(=果て) : 0.3176026302350406 -> 0.6016523904217466\n",
      "v1とneighbour(=外れ) : 0.10630751588255298 -> 0.4029526437108517\n",
      "v1とneighbour(=長逝) : 0.21288629400889142 -> 0.5002748051036833\n",
      "v1とneighbour(=フィニッシュ) : 0.23123557246319026 -> 0.5340759797118181\n",
      "v1とneighbour(=卒去) : 0.16941133019682364 -> 0.46863441213085194\n",
      "v1とneighbour(=けり) : 0.1427584688559424 -> 0.5321647736509401\n",
      "v1とneighbour(=死亡) : 0.2106370516158169 -> 0.4941052126308731\n",
      "v1とneighbour(=仕舞い) : 0.27395662234235435 -> 0.5810997601639079\n",
      "v1とneighbour(=薨去) : 0.21125713376320354 -> 0.49115278223986253\n",
      "v1とneighbour(=卒) : 0.07493309135522518 -> 0.3915556930434671\n",
      "v1とneighbour(=昇天) : 0.26333458355673106 -> 0.5404176401877477\n",
      "v1とneighbour(=終えん) : 0.25525279237494714 -> 0.6168914609981367\n",
      "v1とneighbour(=終決) : 0.31376878311978545 -> 0.5960387953575937\n",
      "v1とneighbour(=先) : 0.2517064111421248 -> 0.4964326030087636\n",
      "v1とneighbour(=結末) : 0.327244991838834 -> 0.6025166344588402\n",
      "v1とneighbour(=結局) : 0.47927975668368117 -> 0.6788231836383107\n",
      "v1とneighbour(=結) : 0.1507314168833326 -> 0.4928213976976737\n",
      "v1とneighbour(=デス) : 0.23391607099510833 -> 0.5211008869865927\n",
      "v1とneighbour(=幕切れ) : 0.35121038450712055 -> 0.6334368792311964\n",
      "v1とneighbour(=掉尾) : 0.3544396803325806 -> 0.6197819765440677\n",
      "v1とneighbour(=御事) : 0.2007464581653365 -> 0.5102817079908116\n",
      "v1とneighbour(=仕舞) : 0.17594644795696757 -> 0.5284127854548332\n",
      "v1とneighbour(=終了) : 0.43270906162158085 -> 0.6256429004012175\n",
      "v1とneighboursの平均ベクトル : 0.5301449370218517 -> 0.7705300436779741\n",
      " \n",
      "v2(=ゴール)における更新対象のneighbour数 : 4\n",
      "v2とneighbour(=行先) : 0.21066364787920197 -> 0.6087108900737729\n",
      "v2とneighbour(=行き先) : 0.26332322177319406 -> 0.6575275044810697\n",
      "v2とneighbour(=行く先) : 0.2832032992731838 -> 0.622642477410247\n",
      "v2とneighbour(=目的地) : 0.3655895311479631 -> 0.7004706783493588\n",
      "v2とneighboursの平均ベクトル : 0.3591795825919865 -> 0.7380079610422599\n",
      " \n",
      "更新対象における重複 : set()\n",
      "更新対象における重複数 : 0\n",
      " \n",
      "word2vec : 0.2799144920955286\n",
      "retrofitting : 0.46578265720526024\n",
      " \n",
      "v1 : 0.9556813298410305\n",
      "v2 : 0.9170504179451484\n"
     ]
    }
   ],
   "source": [
    "v1 = '最後'\n",
    "v2 = 'ゴール'\n",
    "checkSim(v1, v2)"
   ]
  },
  {
   "cell_type": "code",
   "execution_count": 115,
   "metadata": {
    "collapsed": false,
    "scrolled": true
   },
   "outputs": [
    {
     "name": "stdout",
     "output_type": "stream",
     "text": [
      "v1(=国)における更新対象のneighbour数 : 8\n",
      "v1とneighbour(=分野) : 0.2803379969335132 -> 0.5379740306537499\n",
      "v1とneighbour(=ステート) : 0.11621479878160752 -> 0.45178619158660116\n",
      "v1とneighbour(=国家) : 0.6145990089996953 -> 0.8249719104913206\n",
      "v1とneighbour(=世界) : 0.34595373863134665 -> 0.5803956246533929\n",
      "v1とneighbour(=邦) : 0.35177829496825813 -> 0.7017259161601905\n",
      "v1とneighbour(=聯邦) : 0.29987704556928546 -> 0.6625696550340545\n",
      "v1とneighbour(=連邦) : 0.3197057387385614 -> 0.6099376846243704\n",
      "v1とneighbour(=領域) : 0.23806846144136745 -> 0.5260305599655913\n",
      "v1とneighboursの平均ベクトル : 0.5442038398834504 -> 0.814465147786048\n",
      " \n",
      "v2(=分野)における更新対象のneighbour数 : 50\n",
      "v2とneighbour(=分配) : 0.2554990107022538 -> 0.4962427922807238\n",
      "v2とneighbour(=区画) : 0.2715708262189193 -> 0.524962509432658\n",
      "v2とneighbour(=除法) : 0.18313617641648594 -> 0.4891150213010623\n",
      "v2とneighbour(=節) : 0.18245728258739263 -> 0.4411031766791021\n",
      "v2とneighbour(=域) : 0.2557525800487358 -> 0.5483048650908964\n",
      "v2とneighbour(=畑) : 0.1980165239949193 -> 0.48497513523318025\n",
      "v2とneighbour(=パート) : 0.27166437969345003 -> 0.5387193086948134\n",
      "v2とneighbour(=分科) : 0.31595610662715246 -> 0.5688711486705831\n",
      "v2とneighbour(=学科) : 0.4107032780636743 -> 0.6024267933412198\n",
      "v2とneighbour(=一節) : 0.14815781846001105 -> 0.4339100553202454\n",
      "v2とneighbour(=不一致) : 0.16922888704947703 -> 0.371792008789077\n",
      "v2とneighbour(=パーツ) : 0.2307331903305941 -> 0.5539392633960538\n",
      "v2とneighbour(=領域) : 0.5071092014817686 -> 0.6854803035932816\n",
      "v2とneighbour(=原) : 0.14384072991084879 -> 0.45477784953570194\n",
      "v2とneighbour(=セクション) : 0.31268332198351334 -> 0.5937749759243008\n",
      "v2とneighbour(=除算) : 0.19031193938738414 -> 0.4873531486265416\n",
      "v2とneighbour(=部署) : 0.3873944653824492 -> 0.6528458470512646\n",
      "v2とneighbour(=エリア) : 0.24940592511096357 -> 0.483162540807419\n",
      "v2とneighbour(=部門) : 0.5318634556497415 -> 0.7064082505178891\n",
      "v2とneighbour(=部) : 0.22980331230578505 -> 0.5629542264772205\n",
      "v2とneighbour(=方面) : 0.22806300763306667 -> 0.5128930199646603\n",
      "v2とneighbour(=区処) : 0.1631734800834033 -> 0.4849246020517377\n",
      "v2とneighbour(=野原) : 0.09328748788549547 -> 0.41603305733813045\n",
      "v2とneighbour(=原野) : 0.0883028260730713 -> 0.36859668174889926\n",
      "v2とneighbour(=教科) : 0.44240817542417915 -> 0.6727321124002101\n",
      "v2とneighbour(=区分) : 0.279710404402448 -> 0.5408419267042955\n",
      "v2とneighbour(=疆域) : 0.22621773344711743 -> 0.5200316764027935\n",
      "v2とneighbour(=師団) : 0.11622236921170462 -> 0.46658309616252847\n",
      "v2とneighbour(=艦隊) : 0.13228965704580556 -> 0.46604411965283116\n",
      "v2とneighbour(=科) : 0.32250953071182764 -> 0.6201206486318404\n",
      "v2とneighbour(=分割) : 0.15594332213577983 -> 0.46108245623928135\n",
      "v2とneighbour(=割算) : 0.24361186045166386 -> 0.5327042296511754\n",
      "v2とneighbour(=一部) : 0.1979321969384341 -> 0.5031275679907418\n",
      "v2とneighbour(=部分) : 0.2654547721278797 -> 0.5609677244358473\n",
      "v2とneighbour(=範囲) : 0.39304406277816084 -> 0.6250072647198279\n",
      "v2とneighbour(=領分) : 0.2518126092203227 -> 0.5937021299899725\n",
      "v2とneighbour(=野) : 0.2510855193829494 -> 0.5235790416430675\n",
      "v2とneighbour(=分裂) : 0.11938487503895846 -> 0.4232625299771784\n",
      "v2とneighbour(=フィールド) : 0.237258034767785 -> 0.5395724936521752\n",
      "v2とneighbour(=戦域) : 0.2259685948066724 -> 0.486592794291403\n",
      "v2とneighbour(=一端) : 0.26627701553476313 -> 0.5644992829191431\n",
      "v2とneighbour(=仕切り) : 0.14528033295410775 -> 0.44795632413474346\n",
      "v2とneighbour(=事業部) : 0.34029363558662273 -> 0.591830335804308\n",
      "v2とneighbour(=世界) : 0.3178502357511804 -> 0.5456383368824206\n",
      "v2とneighbour(=科目) : 0.4146152762878723 -> 0.6469150002215682\n",
      "v2とneighbour(=区分け) : 0.26778298058215233 -> 0.5210007392892853\n",
      "v2とneighbour(=分け取り) : 0.22491971939276842 -> 0.5061307728482594\n",
      "v2とneighbour(=一部分) : 0.32220442209988337 -> 0.5569283476790222\n",
      "v2とneighbour(=割り算) : 0.1352910207284153 -> 0.44971203243907626\n",
      "v2とneighbour(=国) : 0.2803379969335132 -> 0.5379740306537499\n",
      "v2とneighboursの平均ベクトル : 0.5360850851927399 -> 0.776171960109393\n",
      " \n",
      "更新対象における重複 : {'世界', '領域'}\n",
      "更新対象における重複数 : 2\n",
      " \n",
      "word2vec : 0.2803379969335132\n",
      "retrofitting : 0.5379740306537499\n",
      " \n",
      "v1 : 0.954185014886783\n",
      "v2 : 0.9580796013769105\n"
     ]
    }
   ],
   "source": [
    "v1 = '国'\n",
    "v2 = '分野'\n",
    "checkSim(v1, v2)"
   ]
  },
  {
   "cell_type": "code",
   "execution_count": 47,
   "metadata": {
    "collapsed": false,
    "scrolled": true
   },
   "outputs": [
    {
     "name": "stdout",
     "output_type": "stream",
     "text": [
      "v1(=甘い)における更新対象のneighbour数 : 6\n",
      "v1とneighbour(=緩やか) : 0.2415450710133865 -> 0.6585850594842375\n",
      "v1とneighbour(=寛仁) : 0.16929136236203007 -> 0.57879291095691\n",
      "v1とneighbour(=緩い) : 0.3472129470097726 -> 0.6794209905851345\n",
      "v1とneighbour(=寛大) : 0.3171064549414952 -> 0.6499191017923927\n",
      "v1とneighbour(=寛容) : 0.26343233800063826 -> 0.6278198393501258\n",
      "v1とneighbour(=手ぬるい) : 0.3400710271855983 -> 0.6721585199652284\n",
      "v1とneighboursの平均ベクトル : 0.4361472174522379 -> 0.781154711090697\n",
      " \n",
      "v2(=寛大)における更新対象のneighbour数 : 41\n",
      "v2とneighbour(=懇切) : 0.4126655574042469 -> 0.6829323015488185\n",
      "v2とneighbour(=温かい) : 0.3558699775183507 -> 0.6437110756046661\n",
      "v2とneighbour(=親身) : 0.39518350217246456 -> 0.6712992257214935\n",
      "v2とneighbour(=容赦) : 0.45909483311236027 -> 0.6859781446035553\n",
      "v2とneighbour(=暖か) : 0.29620875367099975 -> 0.6065537282121106\n",
      "v2とneighbour(=でっかい) : 0.1593182639866135 -> 0.4430178257337308\n",
      "v2とneighbour(=雅量) : 0.2103319811669914 -> 0.5740793600221223\n",
      "v2とneighbour(=免罪符) : 0.2642540644549206 -> 0.7411855187049984\n",
      "v2とneighbour(=公差) : 0.09408972137604946 -> 0.4161583678048601\n",
      "v2とneighbour(=暖かい) : 0.3455826597241871 -> 0.63624652119674\n",
      "v2とneighbour(=我慢) : 0.2752467388525622 -> 0.539218329130308\n",
      "v2とneighbour(=ラフ) : 0.23791878487281726 -> 0.5583812823469184\n",
      "v2とneighbour(=広い) : 0.2475249867834003 -> 0.5196475779502356\n",
      "v2とneighbour(=寛仁) : 0.15622389846750204 -> 0.5523156162015864\n",
      "v2とneighbour(=トレランス) : 0.24680021140772793 -> 0.5880389555595067\n",
      "v2とneighbour(=でかい) : 0.2150959276681608 -> 0.4876586973768327\n",
      "v2とneighbour(=太っ腹) : 0.28549332801621813 -> 0.4062020602229301\n",
      "v2とneighbour(=寛容) : 0.6837223968831548 -> 0.8341074166189725\n",
      "v2とneighbour(=情け深い) : 0.5478155270629204 -> 0.7722383143309217\n",
      "v2とneighbour(=温か) : 0.3584064683800333 -> 0.6428462827196569\n",
      "v2とneighbour(=大まか) : 0.1723652625848721 -> 0.4625271688096247\n",
      "v2とneighbour(=寛厚) : 0.477383643132839 -> 0.7691529340926319\n",
      "v2とneighbour(=良い) : 0.2734655822684708 -> 0.5628368878978223\n",
      "v2とneighbour(=情深い) : 0.3265124400920197 -> 0.6859397424454928\n",
      "v2とneighbour(=おっきい) : 0.16641145657956802 -> 0.4798310642162111\n",
      "v2とneighbour(=磊落) : 0.34589800501523227 -> 0.6458858226504706\n",
      "v2とneighbour(=緩い) : 0.20521423839952763 -> 0.5235778644706338\n",
      "v2とneighbour(=甘い) : 0.3171064549414952 -> 0.6499191017923927\n",
      "v2とneighbour(=料簡) : 0.265206433769482 -> 0.5578557433967415\n",
      "v2とneighbour(=任侠) : 0.23108359975573936 -> 0.6144635331549154\n",
      "v2とneighbour(=大きい) : 0.2392658580802953 -> 0.5065049760153109\n",
      "v2とneighbour(=緩やか) : 0.2275597213000555 -> 0.5873989230943013\n",
      "v2とneighbour(=包容力) : 0.38509471780667387 -> 0.6904716919542543\n",
      "v2とneighbour(=おおらか) : 0.3534710482415273 -> 0.6408759764719696\n",
      "v2とneighbour(=慈悲深い) : 0.543088660172382 -> 0.7690350697932135\n",
      "v2とneighbour(=了見) : 0.3561249022539015 -> 0.6195591148886183\n",
      "v2とneighbour(=豊か) : 0.32513792868655267 -> 0.5483591932797449\n",
      "v2とneighbour(=おおまか) : 0.14152155685188594 -> 0.47864763199915994\n",
      "v2とneighbour(=鷹揚) : 0.42539117850436037 -> 0.6753374635539681\n",
      "v2とneighbour(=手ぬるい) : 0.41831544772603035 -> 0.6660910705169966\n",
      "v2とneighbour(=寡欲) : 0.156441837668086 -> 0.5946211897003233\n",
      "v2とneighboursの平均ベクトル : 0.5937300961782626 -> 0.8261680666784442\n",
      " \n",
      "更新対象における重複 : {'寛仁', '緩やか', '緩い', '寛容', '手ぬるい'}\n",
      "更新対象における重複数 : 5\n",
      " \n",
      "word2vec : 0.3171064549414952\n",
      "retrofitting : 0.6499191017923927\n",
      " \n",
      "v1 : 0.9371832979584583\n",
      "v2 : 0.9590915011609197\n"
     ]
    }
   ],
   "source": [
    "v1 = '甘い'\n",
    "v2 = '寛大'\n",
    "checkSim(v1, v2)"
   ]
  },
  {
   "cell_type": "code",
   "execution_count": 37,
   "metadata": {
    "collapsed": false,
    "scrolled": true
   },
   "outputs": [
    {
     "name": "stdout",
     "output_type": "stream",
     "text": [
      "v1(=首)における更新対象のneighbour数 : 26\n",
      "v1とneighbour(=ヘッド) : 0.24642739616787185 -> 0.3834064549051069\n",
      "v1とneighbour(=免職) : 0.1892702002683228 -> 0.5070718312111325\n",
      "v1とneighbour(=頸部) : 0.4505123507331748 -> 0.6889985970126411\n",
      "v1とneighbour(=頚) : 0.366792699959356 -> 0.6506117126706568\n",
      "v1とneighbour(=罷免) : 0.20959893777745434 -> 0.5182192690193763\n",
      "v1とneighbour(=免官) : 0.17965117617729778 -> 0.49464775280618123\n",
      "v1とneighbour(=暇) : 0.2666812654209634 -> 0.4971757180074593\n",
      "v1とneighbour(=ご免) : 0.14204212399357322 -> 0.4598029626345756\n",
      "v1とneighbour(=頚部) : 0.3676779115420377 -> 0.6540707103982555\n",
      "v1とneighbour(=解職) : 0.1312684605500554 -> 0.46552335306519044\n",
      "v1とneighbour(=免) : 0.19956668039363393 -> 0.505980854861111\n",
      "v1とneighbour(=解任) : 0.12804974618421514 -> 0.47080391908473695\n",
      "v1とneighbour(=解雇) : 0.16909683470493422 -> 0.49536208845757723\n",
      "v1とneighbour(=首切り) : 0.3281515923962968 -> 0.5831062374404989\n",
      "v1とneighbour(=衿) : 0.26896706421372424 -> 0.5695506306426479\n",
      "v1とneighbour(=御免) : 0.16202428996720836 -> 0.4708150323148884\n",
      "v1とneighbour(=頭部) : 0.49723472866585877 -> 0.5761437111868011\n",
      "v1とneighbour(=お払い箱) : 0.23569747920624964 -> 0.5314970102753648\n",
      "v1とneighbour(=襟) : 0.3697902778732954 -> 0.6249366407113411\n",
      "v1とneighbour(=馘首) : 0.32190605325962496 -> 0.5879063178940457\n",
      "v1とneighbour(=首斬り) : 0.4019984277245943 -> 0.6308718219616337\n",
      "v1とneighbour(=天天) : 0.24194512534846646 -> 0.6103011229260915\n",
      "v1とneighbour(=頸) : 0.4851312268420389 -> 0.705496105537352\n",
      "v1とneighbour(=雁首) : 0.4152403015385043 -> 0.7145410570579709\n",
      "v1とneighbour(=頭) : 0.41501127409487465 -> 0.5883427801536355\n",
      "v1とneighbour(=ネック) : 0.24809040950580738 -> 0.6274442093655773\n",
      "v1とneighboursの平均ベクトル : 0.5602407144031916 -> 0.8078331873245147\n",
      " \n",
      "v2(=解雇)における更新対象のneighbour数 : 14\n",
      "v2とneighbour(=解職) : 0.3729621867417703 -> 0.6951972898277438\n",
      "v2とneighbour(=免) : 0.18473505343390903 -> 0.5927915670090783\n",
      "v2とneighbour(=馘首) : 0.47916853109121166 -> 0.7143534662660391\n",
      "v2とneighbour(=首斬り) : 0.17356013057765501 -> 0.6006086665319849\n",
      "v2とneighbour(=ご免) : 0.21595670494642139 -> 0.5870570555581907\n",
      "v2とneighbour(=解任) : 0.5660698449102617 -> 0.7925717958108174\n",
      "v2とneighbour(=首) : 0.16909683470493422 -> 0.49536208845757723\n",
      "v2とneighbour(=首切り) : 0.2903438005861633 -> 0.6469053297480191\n",
      "v2とneighbour(=免職) : 0.4936148405883953 -> 0.7624161531010164\n",
      "v2とneighbour(=罷免) : 0.445974179146499 -> 0.7210624748470977\n",
      "v2とneighbour(=御免) : 0.2434673861533266 -> 0.6033489884068564\n",
      "v2とneighbour(=免官) : 0.3247548771507645 -> 0.6468842378288404\n",
      "v2とneighbour(=お払い箱) : 0.350428010930865 -> 0.6778156300991403\n",
      "v2とneighbour(=暇) : 0.23406759575257605 -> 0.5464474166227664\n",
      "v2とneighboursの平均ベクトル : 0.5454307970947933 -> 0.807549547313996\n",
      " \n",
      "更新対象における重複 : {'解職', '免', '馘首', '首斬り', '解任', '首切り', 'ご免', '免職', '罷免', '御免', '免官', 'お払い箱', '暇'}\n",
      "更新対象における重複数 : 13\n",
      " \n",
      "word2vec : 0.16909683470493422\n",
      "retrofitting : 0.49536208845757723\n",
      " \n",
      "v1 : 0.9584727643738519\n",
      "v2 : 0.9468702856922527\n"
     ]
    }
   ],
   "source": [
    "v1 = '首'\n",
    "v2 = '解雇'\n",
    "checkSim(v1, v2)"
   ]
  },
  {
   "cell_type": "markdown",
   "metadata": {},
   "source": [
    "# -----------ある単語の類似する単語を挙げる-----------"
   ]
  },
  {
   "cell_type": "code",
   "execution_count": 44,
   "metadata": {
    "collapsed": true
   },
   "outputs": [],
   "source": [
    "def checkSim_by_word(vecs, word):\n",
    "    # 閾値の設定\n",
    "    negative = False # Falseなら似た単語を候補で上げる\n",
    "    threshold = 0.5 # -1なら閾値固定\n",
    "    border_positive = threshold if threshold > 0 else 0.8\n",
    "    border_negative = threshold if threshold > 0 else 0.3\n",
    "\n",
    "    # 候補数の設定\n",
    "    max_candidates = 20\n",
    "    candidates = {}\n",
    "    \n",
    "    # wordの設定確認\n",
    "    if not word:\n",
    "        raise Exception(\"word is missing\")\n",
    "\n",
    "    # wordがモデルにない場合，\n",
    "    if word not in vecs:\n",
    "        raise Exception(\"Sorry, this word is not registered in model.\")\n",
    "\n",
    "    # ベクトルの設定\n",
    "    w_vec = vecs[word]\n",
    "\n",
    "    # ナレッジグラフにあるかどうかの確認\n",
    "    lexicon = read_lexicon(lexicon_arg)\n",
    "    if word not in lexicon:\n",
    "    #     raise Exception(\"not found error in dict\")\n",
    "        print(\"not found error in dict\")\n",
    "    \n",
    "    for w in vecs:\n",
    "        try:\n",
    "            if w_vec.shape != vecs[w].shape:\n",
    "                raise Exception(\"size not match\")\n",
    "            s = similarity(w_vec, vecs[w])\n",
    "        except Exception as ex:\n",
    "            print(w + \" is not valid word.\")\n",
    "            continue\n",
    "\n",
    "        if negative and s <= border_negative:\n",
    "            candidates[w] = s\n",
    "            if len(candidates) % 5 == 0:\n",
    "                border_negative -= 0.05\n",
    "        elif not negative and s >= border_positive:\n",
    "            candidates[w] = s\n",
    "            if len(candidates) % 5 == 0:\n",
    "                border_positive += 0.05\n",
    "\n",
    "        if len(candidates) > max_candidates:\n",
    "            break\n",
    "    \n",
    "    # 類義語算出\n",
    "    sorted_candidates = sorted(candidates, key=candidates.get, reverse=not negative)\n",
    "    for c in sorted_candidates:\n",
    "        print(\"{0}, {1}\".format(c, candidates[c]))"
   ]
  },
  {
   "cell_type": "code",
   "execution_count": 45,
   "metadata": {
    "collapsed": true
   },
   "outputs": [],
   "source": [
    "word = '首'"
   ]
  },
  {
   "cell_type": "code",
   "execution_count": 46,
   "metadata": {
    "collapsed": false,
    "scrolled": true
   },
   "outputs": [
    {
     "name": "stdout",
     "output_type": "stream",
     "text": [
      "754069 is not valid word.\n",
      "首, 1.0\n",
      "首に, 0.7020332391035057\n",
      "刎, 0.6211267347905213\n",
      "続拾遺和歌集, 0.5661742831081139\n",
      "新拾遺和歌集, 0.5642845831301884\n",
      "続後拾遺和歌集, 0.5585148861206279\n",
      "尾, 0.553421708581033\n",
      "腰, 0.5351856466237928\n",
      "背中, 0.5103645327180215\n",
      "手足, 0.5028418379039111\n",
      " \n",
      "754069 is not valid word.\n",
      "首, 1.0\n",
      "雁首, 0.7145410570579709\n",
      "首に, 0.7080931894414839\n",
      "頸, 0.705496105537352\n",
      "頸部, 0.6889985970126411\n",
      "腰, 0.6660742726043445\n",
      "頚部, 0.6540707103982555\n",
      "背中, 0.6395247544907925\n",
      "斬る, 0.6324658384173607\n",
      "胸, 0.6289739001145982\n",
      "尾, 0.6179651471587841\n",
      "腹, 0.6096465211436369\n",
      "頭, 0.5883427801536355\n",
      "頭部, 0.5761437111868011\n",
      "脚, 0.5717697691129308\n",
      "足, 0.5715720429533705\n",
      "殺す, 0.5612531885843647\n",
      "体, 0.5498965134414835\n",
      "身, 0.5185022070429954\n",
      "口, 0.5169285861383547\n",
      "手, 0.5127556266930783\n"
     ]
    }
   ],
   "source": [
    "# 初期vecの場合，\n",
    "checkSim_by_word(vecs_wordVecs, word)\n",
    "print(' ')\n",
    "# newvecの場合，\n",
    "checkSim_by_word(vecs_new_vec, word)"
   ]
  },
  {
   "cell_type": "markdown",
   "metadata": {},
   "source": [
    "# -----------wordAnalogy評価-----------"
   ]
  },
  {
   "cell_type": "code",
   "execution_count": 26,
   "metadata": {
    "collapsed": true
   },
   "outputs": [],
   "source": [
    "def checkAnalogy(vecs, w_vec):  \n",
    "    negative = False # Falseなら似た単語を候補で上げる\n",
    "    threshold = 0.3 # -1なら閾値固定\n",
    "\n",
    "    # 閾値の設定\n",
    "    border_positive = threshold if threshold > 0 else 0.9\n",
    "    border_negative = threshold if threshold > 0 else 0.2\n",
    "    print('{} < thd < {}'.format(border_negative, border_positive))\n",
    "\n",
    "    # 候補数の設定\n",
    "    max_candidates = 20\n",
    "    candidates = {}\n",
    "\n",
    "    for w in vecs:\n",
    "        try:\n",
    "            if w_vec.shape != vecs[w].shape:\n",
    "                raise Exception(\"size not match\")\n",
    "            s = similarity(w_vec, vecs[w])\n",
    "        except Exception as ex:\n",
    "            print(w + \" is not valid word.\")\n",
    "            continue\n",
    "\n",
    "        if negative and s <= border_negative:\n",
    "            candidates[w] = s\n",
    "            if len(candidates) % 5 == 0:\n",
    "                border_negative -= 0.05\n",
    "        elif not negative and s >= border_positive:\n",
    "            candidates[w] = s\n",
    "            if len(candidates) % 5 == 0:\n",
    "                border_positive += 0.05\n",
    "\n",
    "        if len(candidates) > max_candidates:\n",
    "            break\n",
    "\n",
    "    # 類義語算出\n",
    "    sorted_candidates = sorted(candidates, key=candidates.get, reverse=not negative)\n",
    "    for c in sorted_candidates:\n",
    "        print(\"{0}, {1}\".format(c, candidates[c]))"
   ]
  },
  {
   "cell_type": "markdown",
   "metadata": {},
   "source": [
    "## ・「v1 + v2 - v3」と「v4」の類似度算出"
   ]
  },
  {
   "cell_type": "code",
   "execution_count": 27,
   "metadata": {
    "collapsed": true
   },
   "outputs": [],
   "source": [
    "v1 = '兄'\n",
    "v2 = '姉'\n",
    "v3 = '祖父'\n",
    "v4 = '祖母'"
   ]
  },
  {
   "cell_type": "code",
   "execution_count": 28,
   "metadata": {
    "collapsed": false,
    "scrolled": false
   },
   "outputs": [
    {
     "name": "stdout",
     "output_type": "stream",
     "text": [
      "word2vec : 0.3855693677632116\n",
      "retrofitting : 0.46470763443894203\n"
     ]
    }
   ],
   "source": [
    "if v1 not in lexicon:\n",
    "    print(\"v1 not found error in dict\")\n",
    "if v2 not in lexicon:\n",
    "    print(\"v2 not found error in dict\")\n",
    "if v3 not in lexicon:\n",
    "    print(\"v3 not found error in dict\")\n",
    "if v4 not in lexicon:\n",
    "    print(\"v4 not found error in dict\")\n",
    "\n",
    "try:\n",
    "    print('word2vec : {}'.format(similarity(vecs_wordVecs[v1] + vecs_wordVecs[v2] - vecs_wordVecs[v3], vecs_wordVecs[v4])))\n",
    "except:\n",
    "    print('error')\n",
    "\n",
    "try:\n",
    "    print('retrofitting : {}'.format(similarity(vecs_new_vec[v1] + vecs_new_vec[v2] - vecs_new_vec[v3], vecs_new_vec[v4])))\n",
    "except:\n",
    "    print('error')"
   ]
  },
  {
   "cell_type": "markdown",
   "metadata": {},
   "source": [
    "## ・「v1 + v2 - v3」と近い単語を挙げる→「v4」が結果に出るか"
   ]
  },
  {
   "cell_type": "code",
   "execution_count": 29,
   "metadata": {
    "collapsed": false
   },
   "outputs": [
    {
     "name": "stdout",
     "output_type": "stream",
     "text": [
      "0.3 < thd < 0.3\n",
      "754069 is not valid word.\n",
      "姉, 0.8433279735101462\n",
      "兄, 0.7622779357580127\n",
      "妹, 0.7553375375315672\n",
      "弟, 0.7011033258786433\n",
      "双子, 0.5541898022518956\n",
      "夫, 0.5241162973051148\n",
      "年上, 0.5228285283574702\n",
      "次女, 0.49053484292919564\n",
      "兄弟, 0.4801388417438813\n",
      "叔父, 0.48004084731816965\n",
      "甥, 0.4646477248521072\n",
      "母, 0.4618720699656536\n",
      "長女, 0.4522498603989746\n",
      "娘。, 0.4484254297338895\n",
      "彼女, 0.41874909255787995\n",
      "妻, 0.4180556386599047\n",
      "息子, 0.38730153006548584\n",
      "父, 0.3860297212008132\n",
      "結婚, 0.3574390676533354\n",
      "男, 0.35215392646403093\n",
      "2人, 0.32434570907744076\n",
      " \n",
      "0.3 < thd < 0.3\n",
      "754069 is not valid word.\n",
      "弟, 0.735540018182597\n",
      "彼女, 0.5708677571388876\n",
      "母, 0.543018985376124\n",
      "息子, 0.5335641681270236\n",
      "妻, 0.5269046411495635\n",
      "娘。, 0.5115487458496082\n",
      "女性, 0.4747866974855413\n",
      "子供, 0.46754522886759947\n",
      "彼, 0.464979913115947\n",
      "父, 0.4579658210443133\n",
      "結婚, 0.4532385554739422\n",
      "男性, 0.4523917286989586\n",
      "子, 0.4158272591171027\n",
      "2人, 0.41108535260447876\n",
      "自分, 0.3953707483145449\n",
      "思う, 0.376416952702512\n",
      "出演, 0.36485803889961343\n",
      "メンバー, 0.35210435795316825\n",
      "後, 0.3356467345493145\n",
      "活動, 0.3030128526155883\n",
      "務める, 0.30248141491925656\n"
     ]
    }
   ],
   "source": [
    "# 初期vecの場合，\n",
    "checkAnalogy(vecs_wordVecs, vecs_wordVecs[v1] + vecs_wordVecs[v2] - vecs_wordVecs[v3])\n",
    "print(' ')\n",
    "# newvecの場合，\n",
    "checkAnalogy(vecs_new_vec, vecs_new_vec[v1] + vecs_new_vec[v2] - vecs_new_vec[v3])"
   ]
  }
 ],
 "metadata": {
  "kernelspec": {
   "display_name": "Python 3",
   "language": "python",
   "name": "python3"
  },
  "language_info": {
   "codemirror_mode": {
    "name": "ipython",
    "version": 3
   },
   "file_extension": ".py",
   "mimetype": "text/x-python",
   "name": "python",
   "nbconvert_exporter": "python",
   "pygments_lexer": "ipython3",
   "version": "3.6.0"
  }
 },
 "nbformat": 4,
 "nbformat_minor": 2
}
